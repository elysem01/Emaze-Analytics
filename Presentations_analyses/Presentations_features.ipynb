{
 "cells": [
  {
   "cell_type": "code",
   "execution_count": 1,
   "metadata": {},
   "outputs": [],
   "source": [
    "import pandas as pd \n",
    "from matplotlib import pyplot as plt \n",
    "import seaborn as sns\n",
    "sns.set()\n",
    "\n",
    "import numpy as np \n",
    "import matplotlib \n",
    "\n",
    "np.random.seed(42)"
   ]
  },
  {
   "cell_type": "markdown",
   "metadata": {},
   "source": [
    "# QUESTION: What features drive users to premium? / What features do premium users use the most?"
   ]
  },
  {
   "cell_type": "markdown",
   "metadata": {},
   "source": [
    "### This dataset contains all presentations of premium users BEFORE they became premium"
   ]
  },
  {
   "cell_type": "code",
   "execution_count": 2,
   "metadata": {},
   "outputs": [],
   "source": [
    "df_before = pd.read_csv('data/Presentations_before_prem.csv')"
   ]
  },
  {
   "cell_type": "code",
   "execution_count": 3,
   "metadata": {},
   "outputs": [
    {
     "data": {
      "text/html": [
       "<div>\n",
       "<style scoped>\n",
       "    .dataframe tbody tr th:only-of-type {\n",
       "        vertical-align: middle;\n",
       "    }\n",
       "\n",
       "    .dataframe tbody tr th {\n",
       "        vertical-align: top;\n",
       "    }\n",
       "\n",
       "    .dataframe thead th {\n",
       "        text-align: right;\n",
       "    }\n",
       "</style>\n",
       "<table border=\"1\" class=\"dataframe\">\n",
       "  <thead>\n",
       "    <tr style=\"text-align: right;\">\n",
       "      <th></th>\n",
       "      <th>presentationID</th>\n",
       "      <th>dateCreated</th>\n",
       "      <th>dateUpdated</th>\n",
       "      <th>themeID</th>\n",
       "      <th>userID</th>\n",
       "      <th>views</th>\n",
       "      <th>privacy</th>\n",
       "      <th>collaborationFlag</th>\n",
       "      <th>slideCount</th>\n",
       "      <th>UserId</th>\n",
       "      <th>PremiumStartDate</th>\n",
       "    </tr>\n",
       "  </thead>\n",
       "  <tbody>\n",
       "    <tr>\n",
       "      <td>0</td>\n",
       "      <td>19</td>\n",
       "      <td>2013-04-25 15:46:20.997</td>\n",
       "      <td>2013-04-29 18:15:32.587</td>\n",
       "      <td>4</td>\n",
       "      <td>c03e2337-55c9-4645-a975-a5d3c168e5fb</td>\n",
       "      <td>485</td>\n",
       "      <td>3</td>\n",
       "      <td>1</td>\n",
       "      <td>NaN</td>\n",
       "      <td>c03e2337-55c9-4645-a975-a5d3c168e5fb</td>\n",
       "      <td>2014-01-28 15:59:39.133</td>\n",
       "    </tr>\n",
       "    <tr>\n",
       "      <td>1</td>\n",
       "      <td>24</td>\n",
       "      <td>2013-07-04 15:59:08.437</td>\n",
       "      <td>2014-02-09 14:47:20.020</td>\n",
       "      <td>3</td>\n",
       "      <td>7e47fca9-a139-4525-a28b-a40ab9ba97ed</td>\n",
       "      <td>10942</td>\n",
       "      <td>3</td>\n",
       "      <td>1</td>\n",
       "      <td>7.0</td>\n",
       "      <td>7e47fca9-a139-4525-a28b-a40ab9ba97ed</td>\n",
       "      <td>2017-04-18 11:30:24.503</td>\n",
       "    </tr>\n",
       "    <tr>\n",
       "      <td>2</td>\n",
       "      <td>30</td>\n",
       "      <td>2013-04-25 16:19:26.763</td>\n",
       "      <td>2013-04-25 16:37:57.353</td>\n",
       "      <td>4</td>\n",
       "      <td>024d3f41-f825-4db6-865e-2d9931cdaa31</td>\n",
       "      <td>41</td>\n",
       "      <td>3</td>\n",
       "      <td>0</td>\n",
       "      <td>NaN</td>\n",
       "      <td>024d3f41-f825-4db6-865e-2d9931cdaa31</td>\n",
       "      <td>2014-01-28 15:58:51.213</td>\n",
       "    </tr>\n",
       "    <tr>\n",
       "      <td>3</td>\n",
       "      <td>33</td>\n",
       "      <td>2013-04-25 16:40:22.463</td>\n",
       "      <td>2013-05-06 13:08:26.277</td>\n",
       "      <td>1</td>\n",
       "      <td>024d3f41-f825-4db6-865e-2d9931cdaa31</td>\n",
       "      <td>214</td>\n",
       "      <td>3</td>\n",
       "      <td>0</td>\n",
       "      <td>NaN</td>\n",
       "      <td>024d3f41-f825-4db6-865e-2d9931cdaa31</td>\n",
       "      <td>2014-01-28 15:58:51.213</td>\n",
       "    </tr>\n",
       "    <tr>\n",
       "      <td>4</td>\n",
       "      <td>44</td>\n",
       "      <td>2013-04-25 18:15:53.857</td>\n",
       "      <td>2013-04-25 18:40:00.137</td>\n",
       "      <td>1</td>\n",
       "      <td>e9e6f3f8-c531-4485-b043-a1ca4b8327d8</td>\n",
       "      <td>42</td>\n",
       "      <td>3</td>\n",
       "      <td>0</td>\n",
       "      <td>NaN</td>\n",
       "      <td>e9e6f3f8-c531-4485-b043-a1ca4b8327d8</td>\n",
       "      <td>2015-01-03 17:08:20.547</td>\n",
       "    </tr>\n",
       "  </tbody>\n",
       "</table>\n",
       "</div>"
      ],
      "text/plain": [
       "   presentationID              dateCreated              dateUpdated  themeID  \\\n",
       "0              19  2013-04-25 15:46:20.997  2013-04-29 18:15:32.587        4   \n",
       "1              24  2013-07-04 15:59:08.437  2014-02-09 14:47:20.020        3   \n",
       "2              30  2013-04-25 16:19:26.763  2013-04-25 16:37:57.353        4   \n",
       "3              33  2013-04-25 16:40:22.463  2013-05-06 13:08:26.277        1   \n",
       "4              44  2013-04-25 18:15:53.857  2013-04-25 18:40:00.137        1   \n",
       "\n",
       "                                 userID  views  privacy  collaborationFlag  \\\n",
       "0  c03e2337-55c9-4645-a975-a5d3c168e5fb    485        3                  1   \n",
       "1  7e47fca9-a139-4525-a28b-a40ab9ba97ed  10942        3                  1   \n",
       "2  024d3f41-f825-4db6-865e-2d9931cdaa31     41        3                  0   \n",
       "3  024d3f41-f825-4db6-865e-2d9931cdaa31    214        3                  0   \n",
       "4  e9e6f3f8-c531-4485-b043-a1ca4b8327d8     42        3                  0   \n",
       "\n",
       "   slideCount                                UserId         PremiumStartDate  \n",
       "0         NaN  c03e2337-55c9-4645-a975-a5d3c168e5fb  2014-01-28 15:59:39.133  \n",
       "1         7.0  7e47fca9-a139-4525-a28b-a40ab9ba97ed  2017-04-18 11:30:24.503  \n",
       "2         NaN  024d3f41-f825-4db6-865e-2d9931cdaa31  2014-01-28 15:58:51.213  \n",
       "3         NaN  024d3f41-f825-4db6-865e-2d9931cdaa31  2014-01-28 15:58:51.213  \n",
       "4         NaN  e9e6f3f8-c531-4485-b043-a1ca4b8327d8  2015-01-03 17:08:20.547  "
      ]
     },
     "execution_count": 3,
     "metadata": {},
     "output_type": "execute_result"
    }
   ],
   "source": [
    "df_before.head()"
   ]
  },
  {
   "cell_type": "markdown",
   "metadata": {},
   "source": [
    "### This dataset contains all presentations of premium users AFTER they became premium"
   ]
  },
  {
   "cell_type": "code",
   "execution_count": 4,
   "metadata": {},
   "outputs": [],
   "source": [
    "df_after = pd.read_csv('data/Presentations_after_prem.csv')"
   ]
  },
  {
   "cell_type": "code",
   "execution_count": 5,
   "metadata": {},
   "outputs": [
    {
     "data": {
      "text/html": [
       "<div>\n",
       "<style scoped>\n",
       "    .dataframe tbody tr th:only-of-type {\n",
       "        vertical-align: middle;\n",
       "    }\n",
       "\n",
       "    .dataframe tbody tr th {\n",
       "        vertical-align: top;\n",
       "    }\n",
       "\n",
       "    .dataframe thead th {\n",
       "        text-align: right;\n",
       "    }\n",
       "</style>\n",
       "<table border=\"1\" class=\"dataframe\">\n",
       "  <thead>\n",
       "    <tr style=\"text-align: right;\">\n",
       "      <th></th>\n",
       "      <th>presentationID</th>\n",
       "      <th>dateCreated</th>\n",
       "      <th>dateUpdated</th>\n",
       "      <th>themeID</th>\n",
       "      <th>userID</th>\n",
       "      <th>views</th>\n",
       "      <th>privacy</th>\n",
       "      <th>collaborationFlag</th>\n",
       "      <th>slideCount</th>\n",
       "      <th>UserId</th>\n",
       "      <th>PremiumStartDate</th>\n",
       "    </tr>\n",
       "  </thead>\n",
       "  <tbody>\n",
       "    <tr>\n",
       "      <td>0</td>\n",
       "      <td>379</td>\n",
       "      <td>2013-05-07 13:46:57.373</td>\n",
       "      <td>2013-05-07 14:07:25.927</td>\n",
       "      <td>3</td>\n",
       "      <td>39126815-f2d0-4cd2-aeca-6f031a386bf9</td>\n",
       "      <td>115548</td>\n",
       "      <td>3</td>\n",
       "      <td>0</td>\n",
       "      <td>NaN</td>\n",
       "      <td>39126815-F2D0-4CD2-AECA-6F031A386BF9</td>\n",
       "      <td>2013-01-01 00:00:00.000</td>\n",
       "    </tr>\n",
       "    <tr>\n",
       "      <td>1</td>\n",
       "      <td>33481</td>\n",
       "      <td>2013-07-17 15:00:29.813</td>\n",
       "      <td>2013-07-17 15:47:22.347</td>\n",
       "      <td>19</td>\n",
       "      <td>39126815-f2d0-4cd2-aeca-6f031a386bf9</td>\n",
       "      <td>2124</td>\n",
       "      <td>3</td>\n",
       "      <td>1</td>\n",
       "      <td>5.0</td>\n",
       "      <td>39126815-F2D0-4CD2-AECA-6F031A386BF9</td>\n",
       "      <td>2013-01-01 00:00:00.000</td>\n",
       "    </tr>\n",
       "    <tr>\n",
       "      <td>2</td>\n",
       "      <td>184770</td>\n",
       "      <td>2014-01-19 18:09:18.347</td>\n",
       "      <td>2014-01-19 18:11:27.907</td>\n",
       "      <td>4033</td>\n",
       "      <td>fda82b94-1cce-40c5-8501-b276321fb166</td>\n",
       "      <td>3</td>\n",
       "      <td>3</td>\n",
       "      <td>0</td>\n",
       "      <td>1.0</td>\n",
       "      <td>fda82b94-1cce-40c5-8501-b276321fb166</td>\n",
       "      <td>2014-01-19 18:08:38.253</td>\n",
       "    </tr>\n",
       "    <tr>\n",
       "      <td>3</td>\n",
       "      <td>185093</td>\n",
       "      <td>2014-01-20 03:25:38.803</td>\n",
       "      <td>2014-01-20 03:28:51.427</td>\n",
       "      <td>2024</td>\n",
       "      <td>b3407af7-a828-452e-b925-aec98d0fde70</td>\n",
       "      <td>1</td>\n",
       "      <td>3</td>\n",
       "      <td>0</td>\n",
       "      <td>1.0</td>\n",
       "      <td>b3407af7-a828-452e-b925-aec98d0fde70</td>\n",
       "      <td>2014-01-20 03:24:15.857</td>\n",
       "    </tr>\n",
       "    <tr>\n",
       "      <td>4</td>\n",
       "      <td>186396</td>\n",
       "      <td>2014-01-21 17:47:41.323</td>\n",
       "      <td>2014-01-21 17:49:04.493</td>\n",
       "      <td>5</td>\n",
       "      <td>f617a008-c214-40ae-a1b9-006f30f73dc5</td>\n",
       "      <td>2</td>\n",
       "      <td>3</td>\n",
       "      <td>0</td>\n",
       "      <td>3.0</td>\n",
       "      <td>f617a008-c214-40ae-a1b9-006f30f73dc5</td>\n",
       "      <td>2014-01-21 17:44:43.793</td>\n",
       "    </tr>\n",
       "  </tbody>\n",
       "</table>\n",
       "</div>"
      ],
      "text/plain": [
       "   presentationID              dateCreated              dateUpdated  themeID  \\\n",
       "0             379  2013-05-07 13:46:57.373  2013-05-07 14:07:25.927        3   \n",
       "1           33481  2013-07-17 15:00:29.813  2013-07-17 15:47:22.347       19   \n",
       "2          184770  2014-01-19 18:09:18.347  2014-01-19 18:11:27.907     4033   \n",
       "3          185093  2014-01-20 03:25:38.803  2014-01-20 03:28:51.427     2024   \n",
       "4          186396  2014-01-21 17:47:41.323  2014-01-21 17:49:04.493        5   \n",
       "\n",
       "                                 userID   views  privacy  collaborationFlag  \\\n",
       "0  39126815-f2d0-4cd2-aeca-6f031a386bf9  115548        3                  0   \n",
       "1  39126815-f2d0-4cd2-aeca-6f031a386bf9    2124        3                  1   \n",
       "2  fda82b94-1cce-40c5-8501-b276321fb166       3        3                  0   \n",
       "3  b3407af7-a828-452e-b925-aec98d0fde70       1        3                  0   \n",
       "4  f617a008-c214-40ae-a1b9-006f30f73dc5       2        3                  0   \n",
       "\n",
       "   slideCount                                UserId         PremiumStartDate  \n",
       "0         NaN  39126815-F2D0-4CD2-AECA-6F031A386BF9  2013-01-01 00:00:00.000  \n",
       "1         5.0  39126815-F2D0-4CD2-AECA-6F031A386BF9  2013-01-01 00:00:00.000  \n",
       "2         1.0  fda82b94-1cce-40c5-8501-b276321fb166  2014-01-19 18:08:38.253  \n",
       "3         1.0  b3407af7-a828-452e-b925-aec98d0fde70  2014-01-20 03:24:15.857  \n",
       "4         3.0  f617a008-c214-40ae-a1b9-006f30f73dc5  2014-01-21 17:44:43.793  "
      ]
     },
     "execution_count": 5,
     "metadata": {},
     "output_type": "execute_result"
    }
   ],
   "source": [
    "df_after.head()"
   ]
  },
  {
   "cell_type": "markdown",
   "metadata": {},
   "source": [
    "### There are 109,443 presentations of premium users before they became premium"
   ]
  },
  {
   "cell_type": "code",
   "execution_count": 12,
   "metadata": {
    "scrolled": false
   },
   "outputs": [
    {
     "data": {
      "text/plain": [
       "(109433, 11)"
      ]
     },
     "execution_count": 12,
     "metadata": {},
     "output_type": "execute_result"
    }
   ],
   "source": [
    "df_before.shape"
   ]
  },
  {
   "cell_type": "markdown",
   "metadata": {},
   "source": [
    "### There are 248,281 presentations of premium users after they went premium"
   ]
  },
  {
   "cell_type": "code",
   "execution_count": 18,
   "metadata": {},
   "outputs": [
    {
     "data": {
      "text/plain": [
       "(248281, 11)"
      ]
     },
     "execution_count": 18,
     "metadata": {},
     "output_type": "execute_result"
    }
   ],
   "source": [
    "df_after.shape"
   ]
  },
  {
   "cell_type": "markdown",
   "metadata": {},
   "source": [
    "As you can see, users are making a lot more presentations after they went premium"
   ]
  },
  {
   "cell_type": "markdown",
   "metadata": {},
   "source": [
    "***"
   ]
  },
  {
   "cell_type": "markdown",
   "metadata": {},
   "source": [
    "# Privacy"
   ]
  },
  {
   "cell_type": "markdown",
   "metadata": {},
   "source": [
    "Before a user went premium, they had a non-public presentation 30% of the time"
   ]
  },
  {
   "cell_type": "code",
   "execution_count": 53,
   "metadata": {
    "scrolled": true
   },
   "outputs": [
    {
     "data": {
      "text/plain": [
       "(33015, 11)"
      ]
     },
     "execution_count": 53,
     "metadata": {},
     "output_type": "execute_result"
    }
   ],
   "source": [
    "df_before[df_before.privacy != 3].shape"
   ]
  },
  {
   "cell_type": "code",
   "execution_count": 44,
   "metadata": {
    "scrolled": true
   },
   "outputs": [
    {
     "data": {
      "text/plain": [
       "0.3016914459075416"
      ]
     },
     "execution_count": 44,
     "metadata": {},
     "output_type": "execute_result"
    }
   ],
   "source": [
    "33015/109433"
   ]
  },
  {
   "cell_type": "markdown",
   "metadata": {},
   "source": [
    "After a user went premium, they had a non-public presentation 53% of the time"
   ]
  },
  {
   "cell_type": "code",
   "execution_count": 19,
   "metadata": {},
   "outputs": [
    {
     "data": {
      "text/plain": [
       "(132056, 11)"
      ]
     },
     "execution_count": 19,
     "metadata": {},
     "output_type": "execute_result"
    }
   ],
   "source": [
    "df_after[df_after.privacy != 3].shape"
   ]
  },
  {
   "cell_type": "code",
   "execution_count": 45,
   "metadata": {},
   "outputs": [
    {
     "data": {
      "text/plain": [
       "0.5318812152359624"
      ]
     },
     "execution_count": 45,
     "metadata": {},
     "output_type": "execute_result"
    }
   ],
   "source": [
    "132056/248281"
   ]
  },
  {
   "cell_type": "markdown",
   "metadata": {},
   "source": [
    "## Collaboration"
   ]
  },
  {
   "cell_type": "markdown",
   "metadata": {},
   "source": [
    "Collaboration is a feature that not many people use, even after they switch to premium. Only 2% of the presentations of users after they switched to premium used the collaboration feature."
   ]
  },
  {
   "cell_type": "code",
   "execution_count": 20,
   "metadata": {},
   "outputs": [
    {
     "data": {
      "text/plain": [
       "(2530, 11)"
      ]
     },
     "execution_count": 20,
     "metadata": {},
     "output_type": "execute_result"
    }
   ],
   "source": [
    "df_before[df_before.collaborationFlag == 1].shape"
   ]
  },
  {
   "cell_type": "code",
   "execution_count": 46,
   "metadata": {},
   "outputs": [
    {
     "data": {
      "text/plain": [
       "0.023119168806484333"
      ]
     },
     "execution_count": 46,
     "metadata": {},
     "output_type": "execute_result"
    }
   ],
   "source": [
    "2530/109433"
   ]
  },
  {
   "cell_type": "code",
   "execution_count": 21,
   "metadata": {},
   "outputs": [
    {
     "data": {
      "text/plain": [
       "(5344, 11)"
      ]
     },
     "execution_count": 21,
     "metadata": {},
     "output_type": "execute_result"
    }
   ],
   "source": [
    "df_after[df_after.collaborationFlag == 1].shape"
   ]
  },
  {
   "cell_type": "code",
   "execution_count": 47,
   "metadata": {},
   "outputs": [
    {
     "data": {
      "text/plain": [
       "0.02152399901724256"
      ]
     },
     "execution_count": 47,
     "metadata": {},
     "output_type": "execute_result"
    }
   ],
   "source": [
    "5344/248281"
   ]
  },
  {
   "cell_type": "markdown",
   "metadata": {},
   "source": [
    "## Themes"
   ]
  },
  {
   "cell_type": "code",
   "execution_count": 49,
   "metadata": {},
   "outputs": [
    {
     "data": {
      "text/plain": [
       "themeID\n",
       "33587    20849\n",
       "11054     4014\n",
       "7         2218\n",
       "33458     2027\n",
       "1021      1909\n",
       "Name: presentationID, dtype: int64"
      ]
     },
     "execution_count": 49,
     "metadata": {},
     "output_type": "execute_result"
    }
   ],
   "source": [
    "df_before.groupby('themeID')['presentationID'].count().sort_values(ascending = False).head()"
   ]
  },
  {
   "cell_type": "markdown",
   "metadata": {},
   "source": [
    "The most popular theme for presentations for premium users is ID: 47594, a theme that is not available for non-premium users. This theme is popular amongst the premium users as over 15,000 presentations are made with it"
   ]
  },
  {
   "cell_type": "code",
   "execution_count": 28,
   "metadata": {},
   "outputs": [
    {
     "data": {
      "text/plain": [
       "themeID\n",
       "47594    15749\n",
       "11054     6754\n",
       "47565     5194\n",
       "4026      5062\n",
       "7         4746\n",
       "Name: presentationID, dtype: int64"
      ]
     },
     "execution_count": 28,
     "metadata": {},
     "output_type": "execute_result"
    }
   ],
   "source": [
    "df_after.groupby('themeID')['presentationID'].count().sort_values(ascending = False).head()"
   ]
  },
  {
   "cell_type": "markdown",
   "metadata": {},
   "source": [
    "## Number of Presentations"
   ]
  },
  {
   "cell_type": "markdown",
   "metadata": {},
   "source": [
    "The average number of presentations a user made before they went premium is 3.7"
   ]
  },
  {
   "cell_type": "code",
   "execution_count": 34,
   "metadata": {
    "scrolled": true
   },
   "outputs": [
    {
     "data": {
      "text/plain": [
       "3.7142517734107185"
      ]
     },
     "execution_count": 34,
     "metadata": {},
     "output_type": "execute_result"
    }
   ],
   "source": [
    "df_before.groupby('userID')['presentationID'].count().mean()"
   ]
  },
  {
   "cell_type": "markdown",
   "metadata": {},
   "source": [
    "The average number of presentations a user made after they went premium is 8.7"
   ]
  },
  {
   "cell_type": "code",
   "execution_count": 35,
   "metadata": {
    "scrolled": true
   },
   "outputs": [
    {
     "data": {
      "text/plain": [
       "8.738288811459544"
      ]
     },
     "execution_count": 35,
     "metadata": {},
     "output_type": "execute_result"
    }
   ],
   "source": [
    "df_after.groupby('userID')['presentationID'].count().mean()"
   ]
  },
  {
   "cell_type": "markdown",
   "metadata": {},
   "source": [
    "About 30% of premium users have more than 5 presentations"
   ]
  },
  {
   "cell_type": "code",
   "execution_count": 40,
   "metadata": {},
   "outputs": [],
   "source": [
    "df_x = df_after.groupby('userID')[['presentationID']].count()"
   ]
  },
  {
   "cell_type": "code",
   "execution_count": 43,
   "metadata": {},
   "outputs": [
    {
     "data": {
      "text/plain": [
       "(28413, 1)"
      ]
     },
     "execution_count": 43,
     "metadata": {},
     "output_type": "execute_result"
    }
   ],
   "source": [
    "#28413 premium users\n",
    "df_x.shape"
   ]
  },
  {
   "cell_type": "code",
   "execution_count": 42,
   "metadata": {},
   "outputs": [
    {
     "data": {
      "text/plain": [
       "presentationID    8193\n",
       "dtype: int64"
      ]
     },
     "execution_count": 42,
     "metadata": {},
     "output_type": "execute_result"
    }
   ],
   "source": [
    "#8193 premium users had over 5 presentations\n",
    "df_x[df_x.presentationID > 5].count()"
   ]
  }
 ],
 "metadata": {
  "kernelspec": {
   "display_name": "Python 3",
   "language": "python",
   "name": "python3"
  },
  "language_info": {
   "codemirror_mode": {
    "name": "ipython",
    "version": 3
   },
   "file_extension": ".py",
   "mimetype": "text/x-python",
   "name": "python",
   "nbconvert_exporter": "python",
   "pygments_lexer": "ipython3",
   "version": "3.7.4"
  }
 },
 "nbformat": 4,
 "nbformat_minor": 2
}
