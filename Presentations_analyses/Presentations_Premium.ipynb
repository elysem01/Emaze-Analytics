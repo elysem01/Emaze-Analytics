{
 "cells": [
  {
   "cell_type": "code",
   "execution_count": 1,
   "metadata": {},
   "outputs": [],
   "source": [
    "import pandas as pd \n",
    "from matplotlib import pyplot as plt \n",
    "import seaborn as sns\n",
    "sns.set()\n",
    "\n",
    "import numpy as np \n",
    "import matplotlib \n",
    "\n",
    "np.random.seed(42)"
   ]
  },
  {
   "cell_type": "markdown",
   "metadata": {},
   "source": [
    "# QUESTION: What type of users are more likely to go premium?"
   ]
  },
  {
   "cell_type": "code",
   "execution_count": 2,
   "metadata": {
    "scrolled": true
   },
   "outputs": [],
   "source": [
    "df = pd.read_csv('data/Presentations_under5.csv')"
   ]
  },
  {
   "cell_type": "markdown",
   "metadata": {},
   "source": [
    "### This dataset contains aggregations of amount of presentations, views, and slides of a random sample of users"
   ]
  },
  {
   "cell_type": "markdown",
   "metadata": {},
   "source": [
    "### We chose to only include the presentations of premium users BEFORE they converted to premium in our aggregations in order to decrease the chance of bias/overfitting in our model"
   ]
  },
  {
   "cell_type": "code",
   "execution_count": 3,
   "metadata": {
    "scrolled": true
   },
   "outputs": [
    {
     "data": {
      "text/html": [
       "<div>\n",
       "<style scoped>\n",
       "    .dataframe tbody tr th:only-of-type {\n",
       "        vertical-align: middle;\n",
       "    }\n",
       "\n",
       "    .dataframe tbody tr th {\n",
       "        vertical-align: top;\n",
       "    }\n",
       "\n",
       "    .dataframe thead th {\n",
       "        text-align: right;\n",
       "    }\n",
       "</style>\n",
       "<table border=\"1\" class=\"dataframe\">\n",
       "  <thead>\n",
       "    <tr style=\"text-align: right;\">\n",
       "      <th></th>\n",
       "      <th>UserId</th>\n",
       "      <th>total_pre</th>\n",
       "      <th>average_views</th>\n",
       "      <th>average_slides</th>\n",
       "      <th>UserId.1</th>\n",
       "      <th>PremiumStartDate</th>\n",
       "      <th>RegisterDate</th>\n",
       "    </tr>\n",
       "  </thead>\n",
       "  <tbody>\n",
       "    <tr>\n",
       "      <td>0</td>\n",
       "      <td>3fbd6ca8-5e0e-4210-a7be-64a480f20873</td>\n",
       "      <td>5</td>\n",
       "      <td>0</td>\n",
       "      <td>2.0</td>\n",
       "      <td>3fbd6ca8-5e0e-4210-a7be-64a480f20873</td>\n",
       "      <td>2019-06-21 13:59:02.217</td>\n",
       "      <td>2019-06-21 13:35:42.970</td>\n",
       "    </tr>\n",
       "    <tr>\n",
       "      <td>1</td>\n",
       "      <td>b2e1328d-e603-43cc-8564-bc74bcb8261d</td>\n",
       "      <td>1</td>\n",
       "      <td>0</td>\n",
       "      <td>10.0</td>\n",
       "      <td>b2e1328d-e603-43cc-8564-bc74bcb8261d</td>\n",
       "      <td>2016-07-27 14:15:03.963</td>\n",
       "      <td>2016-07-27 14:04:14.880</td>\n",
       "    </tr>\n",
       "    <tr>\n",
       "      <td>2</td>\n",
       "      <td>80a54a74-f071-49bb-b599-cfb040621c2f</td>\n",
       "      <td>2</td>\n",
       "      <td>81</td>\n",
       "      <td>9.0</td>\n",
       "      <td>80a54a74-f071-49bb-b599-cfb040621c2f</td>\n",
       "      <td>2016-05-17 20:17:36.207</td>\n",
       "      <td>2015-05-15 03:32:37.687</td>\n",
       "    </tr>\n",
       "    <tr>\n",
       "      <td>3</td>\n",
       "      <td>a187dfa7-e7de-4d52-967c-7f5ff5bc2fb0</td>\n",
       "      <td>3</td>\n",
       "      <td>9</td>\n",
       "      <td>4.0</td>\n",
       "      <td>a187dfa7-e7de-4d52-967c-7f5ff5bc2fb0</td>\n",
       "      <td>2017-04-29 06:50:14.073</td>\n",
       "      <td>2016-03-31 12:31:56.610</td>\n",
       "    </tr>\n",
       "    <tr>\n",
       "      <td>4</td>\n",
       "      <td>b8cdc8ad-d443-427d-b4c0-052023da593f</td>\n",
       "      <td>3</td>\n",
       "      <td>9</td>\n",
       "      <td>6.0</td>\n",
       "      <td>b8cdc8ad-d443-427d-b4c0-052023da593f</td>\n",
       "      <td>2018-03-01 03:13:36.323</td>\n",
       "      <td>2016-09-27 01:03:31.210</td>\n",
       "    </tr>\n",
       "  </tbody>\n",
       "</table>\n",
       "</div>"
      ],
      "text/plain": [
       "                                 UserId  total_pre  average_views  \\\n",
       "0  3fbd6ca8-5e0e-4210-a7be-64a480f20873          5              0   \n",
       "1  b2e1328d-e603-43cc-8564-bc74bcb8261d          1              0   \n",
       "2  80a54a74-f071-49bb-b599-cfb040621c2f          2             81   \n",
       "3  a187dfa7-e7de-4d52-967c-7f5ff5bc2fb0          3              9   \n",
       "4  b8cdc8ad-d443-427d-b4c0-052023da593f          3              9   \n",
       "\n",
       "   average_slides                              UserId.1  \\\n",
       "0             2.0  3fbd6ca8-5e0e-4210-a7be-64a480f20873   \n",
       "1            10.0  b2e1328d-e603-43cc-8564-bc74bcb8261d   \n",
       "2             9.0  80a54a74-f071-49bb-b599-cfb040621c2f   \n",
       "3             4.0  a187dfa7-e7de-4d52-967c-7f5ff5bc2fb0   \n",
       "4             6.0  b8cdc8ad-d443-427d-b4c0-052023da593f   \n",
       "\n",
       "          PremiumStartDate             RegisterDate  \n",
       "0  2019-06-21 13:59:02.217  2019-06-21 13:35:42.970  \n",
       "1  2016-07-27 14:15:03.963  2016-07-27 14:04:14.880  \n",
       "2  2016-05-17 20:17:36.207  2015-05-15 03:32:37.687  \n",
       "3  2017-04-29 06:50:14.073  2016-03-31 12:31:56.610  \n",
       "4  2018-03-01 03:13:36.323  2016-09-27 01:03:31.210  "
      ]
     },
     "execution_count": 3,
     "metadata": {},
     "output_type": "execute_result"
    }
   ],
   "source": [
    "df.head()"
   ]
  },
  {
   "cell_type": "code",
   "execution_count": 4,
   "metadata": {},
   "outputs": [],
   "source": [
    "#dropping the repeat UserId column\n",
    "df = df.drop('UserId.1',axis = 1)"
   ]
  },
  {
   "cell_type": "code",
   "execution_count": 5,
   "metadata": {
    "scrolled": false
   },
   "outputs": [
    {
     "data": {
      "text/plain": [
       "(66458, 6)"
      ]
     },
     "execution_count": 5,
     "metadata": {},
     "output_type": "execute_result"
    }
   ],
   "source": [
    "df.shape"
   ]
  },
  {
   "cell_type": "code",
   "execution_count": 6,
   "metadata": {},
   "outputs": [],
   "source": [
    "#randomize the dataset\n",
    "df = df.sample(frac=1).reset_index(drop = True)"
   ]
  },
  {
   "cell_type": "code",
   "execution_count": 7,
   "metadata": {},
   "outputs": [],
   "source": [
    "#replace PremiumStartDate with 1 if not null, 0 if null, to prepare for the ML model\n",
    "df.PremiumStartDate = df.PremiumStartDate.fillna(0)\n",
    "for idx, row in df.iterrows():\n",
    "    if  df.loc[idx,'PremiumStartDate'] != 0:\n",
    "        df.loc[idx,'PremiumStartDate'] = 1"
   ]
  },
  {
   "cell_type": "code",
   "execution_count": 8,
   "metadata": {},
   "outputs": [],
   "source": [
    "#drop non numerical columns\n",
    "df_tree = df.drop(['UserId','RegisterDate'],axis=1)"
   ]
  },
  {
   "cell_type": "code",
   "execution_count": 9,
   "metadata": {
    "scrolled": false
   },
   "outputs": [
    {
     "data": {
      "text/html": [
       "<div>\n",
       "<style scoped>\n",
       "    .dataframe tbody tr th:only-of-type {\n",
       "        vertical-align: middle;\n",
       "    }\n",
       "\n",
       "    .dataframe tbody tr th {\n",
       "        vertical-align: top;\n",
       "    }\n",
       "\n",
       "    .dataframe thead th {\n",
       "        text-align: right;\n",
       "    }\n",
       "</style>\n",
       "<table border=\"1\" class=\"dataframe\">\n",
       "  <thead>\n",
       "    <tr style=\"text-align: right;\">\n",
       "      <th></th>\n",
       "      <th>total_pre</th>\n",
       "      <th>average_views</th>\n",
       "      <th>average_slides</th>\n",
       "      <th>PremiumStartDate</th>\n",
       "    </tr>\n",
       "  </thead>\n",
       "  <tbody>\n",
       "    <tr>\n",
       "      <td>0</td>\n",
       "      <td>1</td>\n",
       "      <td>1</td>\n",
       "      <td>10.0</td>\n",
       "      <td>1</td>\n",
       "    </tr>\n",
       "    <tr>\n",
       "      <td>1</td>\n",
       "      <td>4</td>\n",
       "      <td>54</td>\n",
       "      <td>4.0</td>\n",
       "      <td>0</td>\n",
       "    </tr>\n",
       "    <tr>\n",
       "      <td>2</td>\n",
       "      <td>2</td>\n",
       "      <td>17</td>\n",
       "      <td>7.0</td>\n",
       "      <td>0</td>\n",
       "    </tr>\n",
       "    <tr>\n",
       "      <td>3</td>\n",
       "      <td>1</td>\n",
       "      <td>0</td>\n",
       "      <td>1.0</td>\n",
       "      <td>0</td>\n",
       "    </tr>\n",
       "    <tr>\n",
       "      <td>4</td>\n",
       "      <td>2</td>\n",
       "      <td>31</td>\n",
       "      <td>11.0</td>\n",
       "      <td>0</td>\n",
       "    </tr>\n",
       "  </tbody>\n",
       "</table>\n",
       "</div>"
      ],
      "text/plain": [
       "   total_pre  average_views  average_slides  PremiumStartDate\n",
       "0          1              1            10.0                 1\n",
       "1          4             54             4.0                 0\n",
       "2          2             17             7.0                 0\n",
       "3          1              0             1.0                 0\n",
       "4          2             31            11.0                 0"
      ]
     },
     "execution_count": 9,
     "metadata": {},
     "output_type": "execute_result"
    }
   ],
   "source": [
    "#dataset for decision tree model\n",
    "df_tree.head()"
   ]
  },
  {
   "cell_type": "code",
   "execution_count": 10,
   "metadata": {},
   "outputs": [],
   "source": [
    "#dropping all null values\n",
    "df_tree = df_tree.dropna()"
   ]
  },
  {
   "cell_type": "code",
   "execution_count": 11,
   "metadata": {},
   "outputs": [],
   "source": [
    "#identifying target variable and independent variables\n",
    "target_variable = 'PremiumStartDate'\n",
    "independent_variables = df_tree.drop(columns = target_variable).columns"
   ]
  },
  {
   "cell_type": "code",
   "execution_count": 48,
   "metadata": {},
   "outputs": [],
   "source": [
    "#using a decision tree classifier with a max depth of 5\n",
    "from sklearn.tree import DecisionTreeClassifier\n",
    "from sklearn.model_selection import cross_val_score\n",
    "\n",
    "tree = DecisionTreeClassifier(max_depth = 5)"
   ]
  },
  {
   "cell_type": "code",
   "execution_count": 49,
   "metadata": {},
   "outputs": [
    {
     "data": {
      "text/plain": [
       "DecisionTreeClassifier(ccp_alpha=0.0, class_weight=None, criterion='gini',\n",
       "                       max_depth=5, max_features=None, max_leaf_nodes=None,\n",
       "                       min_impurity_decrease=0.0, min_impurity_split=None,\n",
       "                       min_samples_leaf=1, min_samples_split=2,\n",
       "                       min_weight_fraction_leaf=0.0, presort='deprecated',\n",
       "                       random_state=None, splitter='best')"
      ]
     },
     "execution_count": 49,
     "metadata": {},
     "output_type": "execute_result"
    }
   ],
   "source": [
    "#fitting the model\n",
    "tree.fit(df_tree[independent_variables], df_tree.PremiumStartDate)"
   ]
  },
  {
   "cell_type": "code",
   "execution_count": 50,
   "metadata": {
    "scrolled": true
   },
   "outputs": [
    {
     "data": {
      "text/plain": [
       "array([0, 0, 0, ..., 0, 0, 0], dtype=int64)"
      ]
     },
     "execution_count": 50,
     "metadata": {},
     "output_type": "execute_result"
    }
   ],
   "source": [
    "#making predictions\n",
    "tree.predict(df_tree[independent_variables])"
   ]
  },
  {
   "cell_type": "code",
   "execution_count": 51,
   "metadata": {
    "scrolled": true
   },
   "outputs": [
    {
     "data": {
      "text/plain": [
       "0.7769246981603589"
      ]
     },
     "execution_count": 51,
     "metadata": {},
     "output_type": "execute_result"
    }
   ],
   "source": [
    "#cross validating the accuracy, shows no bias or overfitting\n",
    "cross_val_score(tree, df_tree[independent_variables],\n",
    "                df_tree.PremiumStartDate, scoring=\"accuracy\", \n",
    "                cv=3).mean()"
   ]
  },
  {
   "cell_type": "code",
   "execution_count": 52,
   "metadata": {},
   "outputs": [
    {
     "data": {
      "text/plain": [
       "0.7825400508452868"
      ]
     },
     "execution_count": 52,
     "metadata": {},
     "output_type": "execute_result"
    }
   ],
   "source": [
    "#cross validating the roc auc, shows no bias or overfitting\n",
    "cross_val_score(tree, df_tree[independent_variables],\n",
    "                df_tree.PremiumStartDate, scoring=\"roc_auc\", \n",
    "                cv=3).mean()"
   ]
  },
  {
   "cell_type": "code",
   "execution_count": 53,
   "metadata": {},
   "outputs": [],
   "source": [
    "import graphviz\n",
    "from sklearn.tree import export_graphviz\n",
    "\n",
    "def draw_tree(tree):\n",
    "    dot_data = export_graphviz(tree, out_file=None, \n",
    "                         feature_names=independent_variables, \n",
    "                               class_names=['Premium', 'NotPremium'],\n",
    "                         filled=True, \n",
    "                         #impurity=True,\n",
    "                         rounded=True,  \n",
    "                         special_characters=True,\n",
    "                              proportion = True)  #trying changing proportion = False\n",
    "    \n",
    "    graph = graphviz.Source(dot_data)\n",
    "    graph.format = 'png'\n",
    "    graph.render('tree',view=True)"
   ]
  },
  {
   "cell_type": "code",
   "execution_count": 54,
   "metadata": {},
   "outputs": [],
   "source": [
    "#uncomment below to see decision tree drawing\n",
    "#draw_tree(tree)"
   ]
  },
  {
   "cell_type": "markdown",
   "metadata": {},
   "source": [
    "Decision trees have a method that identifies which features are most important in making predictions, all features are out of 1.00"
   ]
  },
  {
   "cell_type": "code",
   "execution_count": 55,
   "metadata": {},
   "outputs": [
    {
     "data": {
      "text/plain": [
       "{'total_pre': 0.016527169546132245,\n",
       " 'average_views': 0.2126578817356437,\n",
       " 'average_slides': 0.770814948718224}"
      ]
     },
     "execution_count": 55,
     "metadata": {},
     "output_type": "execute_result"
    }
   ],
   "source": [
    "dict(zip(\n",
    "    independent_variables,\n",
    "    tree.feature_importances_\n",
    "))"
   ]
  },
  {
   "cell_type": "markdown",
   "metadata": {},
   "source": [
    "As you can see, users with a high number of slides in their presentations have a higher chance of becoming premium. (0.77)"
   ]
  }
 ],
 "metadata": {
  "kernelspec": {
   "display_name": "Python 3",
   "language": "python",
   "name": "python3"
  },
  "language_info": {
   "codemirror_mode": {
    "name": "ipython",
    "version": 3
   },
   "file_extension": ".py",
   "mimetype": "text/x-python",
   "name": "python",
   "nbconvert_exporter": "python",
   "pygments_lexer": "ipython3",
   "version": "3.7.4"
  }
 },
 "nbformat": 4,
 "nbformat_minor": 2
}
