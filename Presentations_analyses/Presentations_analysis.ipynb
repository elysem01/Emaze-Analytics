{
 "cells": [
  {
   "cell_type": "code",
   "execution_count": 72,
   "metadata": {},
   "outputs": [],
   "source": [
    "import pandas as pd \n",
    "from matplotlib import pyplot as plt \n",
    "import seaborn as sns\n",
    "sns.set()\n",
    "\n",
    "import numpy as np \n",
    "import matplotlib \n",
    "\n",
    "np.random.seed(42)"
   ]
  },
  {
   "cell_type": "markdown",
   "metadata": {},
   "source": [
    "# QUESTION: Who are Emaze's power users? Most presentations/ Most slides/ Most shares / Most views"
   ]
  },
  {
   "cell_type": "markdown",
   "metadata": {},
   "source": [
    "#### This dataset represents the top 10,000 presentations with the most views"
   ]
  },
  {
   "cell_type": "code",
   "execution_count": 73,
   "metadata": {},
   "outputs": [],
   "source": [
    "df = pd.read_csv('data/Presentations_views.csv')"
   ]
  },
  {
   "cell_type": "code",
   "execution_count": 74,
   "metadata": {
    "scrolled": true
   },
   "outputs": [
    {
     "data": {
      "text/html": [
       "<div>\n",
       "<style scoped>\n",
       "    .dataframe tbody tr th:only-of-type {\n",
       "        vertical-align: middle;\n",
       "    }\n",
       "\n",
       "    .dataframe tbody tr th {\n",
       "        vertical-align: top;\n",
       "    }\n",
       "\n",
       "    .dataframe thead th {\n",
       "        text-align: right;\n",
       "    }\n",
       "</style>\n",
       "<table border=\"1\" class=\"dataframe\">\n",
       "  <thead>\n",
       "    <tr style=\"text-align: right;\">\n",
       "      <th></th>\n",
       "      <th>presentationID</th>\n",
       "      <th>name</th>\n",
       "      <th>description</th>\n",
       "      <th>dateCreated</th>\n",
       "      <th>dateUpdated</th>\n",
       "      <th>themeID</th>\n",
       "      <th>userID</th>\n",
       "      <th>views</th>\n",
       "      <th>privacy</th>\n",
       "      <th>collaborationFlag</th>\n",
       "      <th>...</th>\n",
       "      <th>linkedinShares</th>\n",
       "      <th>twitterShares</th>\n",
       "      <th>pinterestShares</th>\n",
       "      <th>UserId</th>\n",
       "      <th>IpAddress</th>\n",
       "      <th>CountryCode</th>\n",
       "      <th>RegisterDate</th>\n",
       "      <th>LastLoginDate</th>\n",
       "      <th>PremiumStartDate</th>\n",
       "      <th>PremiumEndDate</th>\n",
       "    </tr>\n",
       "  </thead>\n",
       "  <tbody>\n",
       "    <tr>\n",
       "      <td>0</td>\n",
       "      <td>8154162</td>\n",
       "      <td>home 2020</td>\n",
       "      <td>CREATE NEWfollow us on instagramtwitterThis pa...</td>\n",
       "      <td>2017-01-16 10:02:44.860</td>\n",
       "      <td>2020-06-24 11:59:45.143</td>\n",
       "      <td>47336</td>\n",
       "      <td>18d5fe79-926b-489c-9dc3-406641760d0d</td>\n",
       "      <td>11415116</td>\n",
       "      <td>3</td>\n",
       "      <td>1</td>\n",
       "      <td>...</td>\n",
       "      <td>10</td>\n",
       "      <td>11</td>\n",
       "      <td>14</td>\n",
       "      <td>18d5fe79-926b-489c-9dc3-406641760d0d</td>\n",
       "      <td>80.178.195.170</td>\n",
       "      <td>IL</td>\n",
       "      <td>2015-09-20 14:35:04.737</td>\n",
       "      <td>2020-06-25 13:44:10.123</td>\n",
       "      <td>2019-06-17 06:53:28.407</td>\n",
       "      <td>2021-06-23 12:25:58.153</td>\n",
       "    </tr>\n",
       "    <tr>\n",
       "      <td>1</td>\n",
       "      <td>11947423</td>\n",
       "      <td>atencion a usuarios</td>\n",
       "      <td>Atención a usuarios ¿En qué podemos ayudarte?¿...</td>\n",
       "      <td>2018-01-30 17:21:02.200</td>\n",
       "      <td>2018-02-22 15:46:02.287</td>\n",
       "      <td>47578</td>\n",
       "      <td>fe58bbba-c36c-411e-bd55-7cc05b9c0c5c</td>\n",
       "      <td>3280010</td>\n",
       "      <td>3</td>\n",
       "      <td>0</td>\n",
       "      <td>...</td>\n",
       "      <td>0</td>\n",
       "      <td>0</td>\n",
       "      <td>0</td>\n",
       "      <td>fe58bbba-c36c-411e-bd55-7cc05b9c0c5c</td>\n",
       "      <td>148.229.15.97</td>\n",
       "      <td>MX</td>\n",
       "      <td>2017-03-29 16:21:08.100</td>\n",
       "      <td>2019-08-12 16:54:15.490</td>\n",
       "      <td>NaN</td>\n",
       "      <td>NaN</td>\n",
       "    </tr>\n",
       "    <tr>\n",
       "      <td>2</td>\n",
       "      <td>16540043</td>\n",
       "      <td>TIPS</td>\n",
       "      <td>TEACH ONLINEDiscover what makes Emaze the favo...</td>\n",
       "      <td>2020-02-19 12:49:56.620</td>\n",
       "      <td>2020-06-07 07:49:04.677</td>\n",
       "      <td>47336</td>\n",
       "      <td>18d5fe79-926b-489c-9dc3-406641760d0d</td>\n",
       "      <td>972062</td>\n",
       "      <td>1</td>\n",
       "      <td>1</td>\n",
       "      <td>...</td>\n",
       "      <td>0</td>\n",
       "      <td>0</td>\n",
       "      <td>3</td>\n",
       "      <td>18d5fe79-926b-489c-9dc3-406641760d0d</td>\n",
       "      <td>80.178.195.170</td>\n",
       "      <td>IL</td>\n",
       "      <td>2015-09-20 14:35:04.737</td>\n",
       "      <td>2020-06-25 13:44:10.123</td>\n",
       "      <td>2019-06-17 06:53:28.407</td>\n",
       "      <td>2021-06-23 12:25:58.153</td>\n",
       "    </tr>\n",
       "    <tr>\n",
       "      <td>3</td>\n",
       "      <td>250256</td>\n",
       "      <td>PresentationAndroid.pptx</td>\n",
       "      <td>Connecting to the CollegeWifi networking usin...</td>\n",
       "      <td>2014-03-18 12:00:00.913</td>\n",
       "      <td>2014-03-18 13:46:41.547</td>\n",
       "      <td>4</td>\n",
       "      <td>e2ee2dc3-a514-41da-a7f5-ea00e6f129fe</td>\n",
       "      <td>777683</td>\n",
       "      <td>3</td>\n",
       "      <td>0</td>\n",
       "      <td>...</td>\n",
       "      <td>0</td>\n",
       "      <td>0</td>\n",
       "      <td>0</td>\n",
       "      <td>e2ee2dc3-a514-41da-a7f5-ea00e6f129fe</td>\n",
       "      <td>212.219.14.254</td>\n",
       "      <td>GB</td>\n",
       "      <td>2014-01-27 10:57:46.863</td>\n",
       "      <td>2015-11-09 11:02:32.787</td>\n",
       "      <td>NaN</td>\n",
       "      <td>NaN</td>\n",
       "    </tr>\n",
       "    <tr>\n",
       "      <td>4</td>\n",
       "      <td>2133139</td>\n",
       "      <td>Moodle</td>\n",
       "      <td>Bienvenidos a univirtual.unicauca.edu.co univ...</td>\n",
       "      <td>2015-04-20 15:27:00.017</td>\n",
       "      <td>2015-04-27 22:31:43.703</td>\n",
       "      <td>4</td>\n",
       "      <td>2a6cf04c-c62d-4376-96e0-abdcb73ef3a8</td>\n",
       "      <td>587613</td>\n",
       "      <td>3</td>\n",
       "      <td>0</td>\n",
       "      <td>...</td>\n",
       "      <td>0</td>\n",
       "      <td>0</td>\n",
       "      <td>0</td>\n",
       "      <td>2a6cf04c-c62d-4376-96e0-abdcb73ef3a8</td>\n",
       "      <td>190.90.112.10</td>\n",
       "      <td>CO</td>\n",
       "      <td>2015-04-06 21:23:46.060</td>\n",
       "      <td>2019-12-18 02:29:10.633</td>\n",
       "      <td>NaN</td>\n",
       "      <td>NaN</td>\n",
       "    </tr>\n",
       "  </tbody>\n",
       "</table>\n",
       "<p>5 rows × 24 columns</p>\n",
       "</div>"
      ],
      "text/plain": [
       "   presentationID                      name  \\\n",
       "0         8154162                 home 2020   \n",
       "1        11947423       atencion a usuarios   \n",
       "2        16540043                      TIPS   \n",
       "3          250256  PresentationAndroid.pptx   \n",
       "4         2133139                    Moodle   \n",
       "\n",
       "                                         description              dateCreated  \\\n",
       "0  CREATE NEWfollow us on instagramtwitterThis pa...  2017-01-16 10:02:44.860   \n",
       "1  Atención a usuarios ¿En qué podemos ayudarte?¿...  2018-01-30 17:21:02.200   \n",
       "2  TEACH ONLINEDiscover what makes Emaze the favo...  2020-02-19 12:49:56.620   \n",
       "3   Connecting to the CollegeWifi networking usin...  2014-03-18 12:00:00.913   \n",
       "4   Bienvenidos a univirtual.unicauca.edu.co univ...  2015-04-20 15:27:00.017   \n",
       "\n",
       "               dateUpdated  themeID                                userID  \\\n",
       "0  2020-06-24 11:59:45.143    47336  18d5fe79-926b-489c-9dc3-406641760d0d   \n",
       "1  2018-02-22 15:46:02.287    47578  fe58bbba-c36c-411e-bd55-7cc05b9c0c5c   \n",
       "2  2020-06-07 07:49:04.677    47336  18d5fe79-926b-489c-9dc3-406641760d0d   \n",
       "3  2014-03-18 13:46:41.547        4  e2ee2dc3-a514-41da-a7f5-ea00e6f129fe   \n",
       "4  2015-04-27 22:31:43.703        4  2a6cf04c-c62d-4376-96e0-abdcb73ef3a8   \n",
       "\n",
       "      views  privacy  collaborationFlag  ...  linkedinShares twitterShares  \\\n",
       "0  11415116        3                  1  ...              10            11   \n",
       "1   3280010        3                  0  ...               0             0   \n",
       "2    972062        1                  1  ...               0             0   \n",
       "3    777683        3                  0  ...               0             0   \n",
       "4    587613        3                  0  ...               0             0   \n",
       "\n",
       "   pinterestShares                                UserId       IpAddress  \\\n",
       "0               14  18d5fe79-926b-489c-9dc3-406641760d0d  80.178.195.170   \n",
       "1                0  fe58bbba-c36c-411e-bd55-7cc05b9c0c5c   148.229.15.97   \n",
       "2                3  18d5fe79-926b-489c-9dc3-406641760d0d  80.178.195.170   \n",
       "3                0  e2ee2dc3-a514-41da-a7f5-ea00e6f129fe  212.219.14.254   \n",
       "4                0  2a6cf04c-c62d-4376-96e0-abdcb73ef3a8   190.90.112.10   \n",
       "\n",
       "   CountryCode             RegisterDate            LastLoginDate  \\\n",
       "0           IL  2015-09-20 14:35:04.737  2020-06-25 13:44:10.123   \n",
       "1           MX  2017-03-29 16:21:08.100  2019-08-12 16:54:15.490   \n",
       "2           IL  2015-09-20 14:35:04.737  2020-06-25 13:44:10.123   \n",
       "3           GB  2014-01-27 10:57:46.863  2015-11-09 11:02:32.787   \n",
       "4           CO  2015-04-06 21:23:46.060  2019-12-18 02:29:10.633   \n",
       "\n",
       "          PremiumStartDate           PremiumEndDate  \n",
       "0  2019-06-17 06:53:28.407  2021-06-23 12:25:58.153  \n",
       "1                      NaN                      NaN  \n",
       "2  2019-06-17 06:53:28.407  2021-06-23 12:25:58.153  \n",
       "3                      NaN                      NaN  \n",
       "4                      NaN                      NaN  \n",
       "\n",
       "[5 rows x 24 columns]"
      ]
     },
     "execution_count": 74,
     "metadata": {},
     "output_type": "execute_result"
    }
   ],
   "source": [
    "df.head()"
   ]
  },
  {
   "cell_type": "code",
   "execution_count": 75,
   "metadata": {
    "scrolled": true
   },
   "outputs": [
    {
     "data": {
      "text/plain": [
       "Index(['presentationID', 'name', 'description', 'dateCreated', 'dateUpdated',\n",
       "       'themeID', 'userID', 'views', 'privacy', 'collaborationFlag',\n",
       "       'slideCount', 'language', 'facebookShares', 'googlePlusShares',\n",
       "       'linkedinShares', 'twitterShares', 'pinterestShares', 'UserId',\n",
       "       'IpAddress', 'CountryCode', 'RegisterDate', 'LastLoginDate',\n",
       "       'PremiumStartDate', 'PremiumEndDate'],\n",
       "      dtype='object')"
      ]
     },
     "execution_count": 75,
     "metadata": {},
     "output_type": "execute_result"
    }
   ],
   "source": [
    "df.columns"
   ]
  },
  {
   "cell_type": "markdown",
   "metadata": {},
   "source": [
    "## Which countries have presentations with the most views?"
   ]
  },
  {
   "cell_type": "code",
   "execution_count": 76,
   "metadata": {
    "scrolled": true
   },
   "outputs": [
    {
     "data": {
      "text/plain": [
       "CountryCode\n",
       "US    2216\n",
       "MX    1178\n",
       "CO    1074\n",
       "ES     503\n",
       "IL     483\n",
       "Name: presentationID, dtype: int64"
      ]
     },
     "execution_count": 76,
     "metadata": {},
     "output_type": "execute_result"
    }
   ],
   "source": [
    "df.groupby('CountryCode')['presentationID'].count().sort_values(ascending=False).head()"
   ]
  },
  {
   "cell_type": "code",
   "execution_count": 82,
   "metadata": {},
   "outputs": [
    {
     "data": {
      "image/png": "[encoded data removed]",
      "text/plain": [
       "<Figure size 432x288 with 1 Axes>"
      ]
     },
     "metadata": {},
     "output_type": "display_data"
    }
   ],
   "source": [
    "ax = sns.countplot(x='CountryCode', data= df[(df.CountryCode == 'US') | (df.CountryCode == 'MX') | (df.CountryCode == 'CO') | (df.CountryCode == 'ES') | (df.CountryCode == 'IL')]).set_title('Top 5 Countries')"
   ]
  },
  {
   "cell_type": "markdown",
   "metadata": {},
   "source": [
    "Out of the top 10,000 most viewed presentations, about 1/5 of them were from the US"
   ]
  },
  {
   "cell_type": "markdown",
   "metadata": {},
   "source": [
    "## Which themeID is most popular among the most viewed presentations?"
   ]
  },
  {
   "cell_type": "code",
   "execution_count": 29,
   "metadata": {
    "scrolled": true
   },
   "outputs": [
    {
     "data": {
      "text/plain": [
       "themeID\n",
       "11054    1230\n",
       "2022      391\n",
       "1020      350\n",
       "2024      323\n",
       "1021      290\n",
       "Name: presentationID, dtype: int64"
      ]
     },
     "execution_count": 29,
     "metadata": {},
     "output_type": "execute_result"
    }
   ],
   "source": [
    "df.groupby('themeID')['presentationID'].count().sort_values(ascending=False).head()"
   ]
  },
  {
   "cell_type": "code",
   "execution_count": 83,
   "metadata": {},
   "outputs": [
    {
     "data": {
      "image/png": "[encoded data removed]",
      "text/plain": [
       "<Figure size 432x288 with 1 Axes>"
      ]
     },
     "metadata": {},
     "output_type": "display_data"
    }
   ],
   "source": [
    "ax = sns.countplot(x='themeID', data= df[(df.themeID == 11054) | (df.themeID == 2022) | (df.themeID == 1020) | (df.themeID == 2024) | (df.themeID == 1021)]).set_title('Top 5 ThemeIDs')"
   ]
  },
  {
   "cell_type": "markdown",
   "metadata": {},
   "source": [
    "Out of the top 10,000 most viewed presentations, 1128 of them belonged to themeID 11054"
   ]
  },
  {
   "cell_type": "markdown",
   "metadata": {},
   "source": [
    "## How many of the most viewed presentations belong to premium users?"
   ]
  },
  {
   "cell_type": "code",
   "execution_count": 30,
   "metadata": {
    "scrolled": true
   },
   "outputs": [
    {
     "data": {
      "text/plain": [
       "1215"
      ]
     },
     "execution_count": 30,
     "metadata": {},
     "output_type": "execute_result"
    }
   ],
   "source": [
    "df['PremiumStartDate'].count()"
   ]
  },
  {
   "cell_type": "markdown",
   "metadata": {},
   "source": [
    "About 12% of the most viewed presentations belong(ed) to premium users"
   ]
  },
  {
   "cell_type": "markdown",
   "metadata": {},
   "source": [
    "## Shares"
   ]
  },
  {
   "cell_type": "code",
   "execution_count": 31,
   "metadata": {},
   "outputs": [],
   "source": [
    "df['total_shares'] = df['facebookShares'] + df['googlePlusShares'] + df['linkedinShares'] + df['twitterShares'] + df['pinterestShares']"
   ]
  },
  {
   "cell_type": "code",
   "execution_count": 32,
   "metadata": {},
   "outputs": [
    {
     "data": {
      "text/plain": [
       "370     471\n",
       "353     447\n",
       "616     250\n",
       "0       161\n",
       "5100    124\n",
       "Name: total_shares, dtype: int64"
      ]
     },
     "execution_count": 32,
     "metadata": {},
     "output_type": "execute_result"
    }
   ],
   "source": [
    "df[df.total_shares != 0]['total_shares'].sort_values(ascending = False).head()"
   ]
  },
  {
   "cell_type": "code",
   "execution_count": 33,
   "metadata": {},
   "outputs": [
    {
     "data": {
      "text/plain": [
       "41.44871794871795"
      ]
     },
     "execution_count": 33,
     "metadata": {},
     "output_type": "execute_result"
    }
   ],
   "source": [
    "df[df.total_shares != 0]['total_shares'].sort_values(ascending = False).mean()"
   ]
  },
  {
   "cell_type": "code",
   "execution_count": 34,
   "metadata": {},
   "outputs": [
    {
     "data": {
      "text/plain": [
       "21.0"
      ]
     },
     "execution_count": 34,
     "metadata": {},
     "output_type": "execute_result"
    }
   ],
   "source": [
    "df[df.total_shares != 0]['total_shares'].sort_values(ascending = False).median()"
   ]
  },
  {
   "cell_type": "markdown",
   "metadata": {},
   "source": [
    "***"
   ]
  },
  {
   "cell_type": "markdown",
   "metadata": {},
   "source": [
    "***"
   ]
  },
  {
   "cell_type": "markdown",
   "metadata": {},
   "source": [
    "***"
   ]
  },
  {
   "cell_type": "markdown",
   "metadata": {},
   "source": [
    "#### This data represents the top 10,000 presentations with the most number of slides"
   ]
  },
  {
   "cell_type": "code",
   "execution_count": 35,
   "metadata": {},
   "outputs": [],
   "source": [
    "df_slides = pd.read_csv('data/Presentations_slideCount.csv')"
   ]
  },
  {
   "cell_type": "code",
   "execution_count": 36,
   "metadata": {},
   "outputs": [
    {
     "data": {
      "text/html": [
       "<div>\n",
       "<style scoped>\n",
       "    .dataframe tbody tr th:only-of-type {\n",
       "        vertical-align: middle;\n",
       "    }\n",
       "\n",
       "    .dataframe tbody tr th {\n",
       "        vertical-align: top;\n",
       "    }\n",
       "\n",
       "    .dataframe thead th {\n",
       "        text-align: right;\n",
       "    }\n",
       "</style>\n",
       "<table border=\"1\" class=\"dataframe\">\n",
       "  <thead>\n",
       "    <tr style=\"text-align: right;\">\n",
       "      <th></th>\n",
       "      <th>presentationID</th>\n",
       "      <th>name</th>\n",
       "      <th>description</th>\n",
       "      <th>dateCreated</th>\n",
       "      <th>dateUpdated</th>\n",
       "      <th>themeID</th>\n",
       "      <th>userID</th>\n",
       "      <th>views</th>\n",
       "      <th>privacy</th>\n",
       "      <th>collaborationFlag</th>\n",
       "      <th>...</th>\n",
       "      <th>linkedinShares</th>\n",
       "      <th>twitterShares</th>\n",
       "      <th>pinterestShares</th>\n",
       "      <th>UserId</th>\n",
       "      <th>IpAddress</th>\n",
       "      <th>CountryCode</th>\n",
       "      <th>RegisterDate</th>\n",
       "      <th>LastLoginDate</th>\n",
       "      <th>PremiumStartDate</th>\n",
       "      <th>PremiumEndDate</th>\n",
       "    </tr>\n",
       "  </thead>\n",
       "  <tbody>\n",
       "    <tr>\n",
       "      <td>0</td>\n",
       "      <td>7187963</td>\n",
       "      <td>MGEE KAREN</td>\n",
       "      <td>Considerar la evaluación como base para el mej...</td>\n",
       "      <td>2016-10-15 23:19:02.680</td>\n",
       "      <td>2016-10-16 10:17:29.870</td>\n",
       "      <td>11054</td>\n",
       "      <td>316d7252-485a-4f0d-8995-70be515b7bd1</td>\n",
       "      <td>41</td>\n",
       "      <td>3</td>\n",
       "      <td>0</td>\n",
       "      <td>...</td>\n",
       "      <td>0</td>\n",
       "      <td>0</td>\n",
       "      <td>0</td>\n",
       "      <td>316d7252-485a-4f0d-8995-70be515b7bd1</td>\n",
       "      <td>189.203.45.177</td>\n",
       "      <td>MX</td>\n",
       "      <td>2016-10-13 16:24:04.547</td>\n",
       "      <td>2016-10-16 18:07:26.503</td>\n",
       "      <td>NaN</td>\n",
       "      <td>NaN</td>\n",
       "    </tr>\n",
       "    <tr>\n",
       "      <td>1</td>\n",
       "      <td>1835532</td>\n",
       "      <td>44-OCJbqg0Kkm.pptx</td>\n",
       "      <td>NaN</td>\n",
       "      <td>2015-03-11 12:34:46.093</td>\n",
       "      <td>2015-03-11 12:34:46.093</td>\n",
       "      <td>8047</td>\n",
       "      <td>048710c8-4346-4008-8ff4-37451577e8bd</td>\n",
       "      <td>10</td>\n",
       "      <td>3</td>\n",
       "      <td>0</td>\n",
       "      <td>...</td>\n",
       "      <td>0</td>\n",
       "      <td>0</td>\n",
       "      <td>0</td>\n",
       "      <td>048710c8-4346-4008-8ff4-37451577e8bd</td>\n",
       "      <td>62.90.24.165</td>\n",
       "      <td>IL</td>\n",
       "      <td>2015-03-02 14:57:04.493</td>\n",
       "      <td>2017-01-19 15:09:45.117</td>\n",
       "      <td>NaN</td>\n",
       "      <td>NaN</td>\n",
       "    </tr>\n",
       "    <tr>\n",
       "      <td>2</td>\n",
       "      <td>16675744</td>\n",
       "      <td>Montagem e Instalação de Rede de Distribuição ...</td>\n",
       "      <td>Montagem e Instalação de Redes de Distribuição...</td>\n",
       "      <td>2020-03-24 00:07:25.923</td>\n",
       "      <td>2020-04-18 19:26:27.137</td>\n",
       "      <td>47314</td>\n",
       "      <td>859cad3d-a17c-4c02-9ca8-b0ac9c8c28c1</td>\n",
       "      <td>14</td>\n",
       "      <td>3</td>\n",
       "      <td>0</td>\n",
       "      <td>...</td>\n",
       "      <td>0</td>\n",
       "      <td>0</td>\n",
       "      <td>0</td>\n",
       "      <td>859cad3d-a17c-4c02-9ca8-b0ac9c8c28c1</td>\n",
       "      <td>177.221.59.32</td>\n",
       "      <td>BR</td>\n",
       "      <td>2020-01-15 20:25:10.753</td>\n",
       "      <td>2020-04-20 21:32:20.807</td>\n",
       "      <td>NaN</td>\n",
       "      <td>NaN</td>\n",
       "    </tr>\n",
       "    <tr>\n",
       "      <td>3</td>\n",
       "      <td>3163742</td>\n",
       "      <td>Other usages of Can (Hucy)</td>\n",
       "      <td>PRICESExpensiveCheapWhich one is more expensiv...</td>\n",
       "      <td>2015-09-18 11:01:19.163</td>\n",
       "      <td>2020-05-18 21:44:16.953</td>\n",
       "      <td>13058</td>\n",
       "      <td>291f19fa-70e3-417a-94c1-cbb4fd437203</td>\n",
       "      <td>153</td>\n",
       "      <td>3</td>\n",
       "      <td>0</td>\n",
       "      <td>...</td>\n",
       "      <td>0</td>\n",
       "      <td>0</td>\n",
       "      <td>0</td>\n",
       "      <td>291f19fa-70e3-417a-94c1-cbb4fd437203</td>\n",
       "      <td>177.180.30.179</td>\n",
       "      <td>BR</td>\n",
       "      <td>2015-03-23 23:50:47.077</td>\n",
       "      <td>2020-06-24 23:45:37.987</td>\n",
       "      <td>NaN</td>\n",
       "      <td>NaN</td>\n",
       "    </tr>\n",
       "    <tr>\n",
       "      <td>4</td>\n",
       "      <td>8760245</td>\n",
       "      <td>GoddessDressInspiration</td>\n",
       "      <td>GoddessDress InspirationsDreamEmotionsMagicSha...</td>\n",
       "      <td>2017-03-08 00:49:22.803</td>\n",
       "      <td>2017-04-29 18:22:49.977</td>\n",
       "      <td>4024</td>\n",
       "      <td>80c9dfea-07c7-474c-9177-59bf732b5123</td>\n",
       "      <td>182</td>\n",
       "      <td>3</td>\n",
       "      <td>0</td>\n",
       "      <td>...</td>\n",
       "      <td>0</td>\n",
       "      <td>0</td>\n",
       "      <td>0</td>\n",
       "      <td>80c9dfea-07c7-474c-9177-59bf732b5123</td>\n",
       "      <td>68.103.152.141</td>\n",
       "      <td>US</td>\n",
       "      <td>2016-12-17 19:03:34.857</td>\n",
       "      <td>2017-04-29 17:59:55.877</td>\n",
       "      <td>NaN</td>\n",
       "      <td>NaN</td>\n",
       "    </tr>\n",
       "  </tbody>\n",
       "</table>\n",
       "<p>5 rows × 24 columns</p>\n",
       "</div>"
      ],
      "text/plain": [
       "   presentationID                                               name  \\\n",
       "0         7187963                                         MGEE KAREN   \n",
       "1         1835532                                 44-OCJbqg0Kkm.pptx   \n",
       "2        16675744  Montagem e Instalação de Rede de Distribuição ...   \n",
       "3         3163742                         Other usages of Can (Hucy)   \n",
       "4         8760245                            GoddessDressInspiration   \n",
       "\n",
       "                                         description              dateCreated  \\\n",
       "0  Considerar la evaluación como base para el mej...  2016-10-15 23:19:02.680   \n",
       "1                                                NaN  2015-03-11 12:34:46.093   \n",
       "2  Montagem e Instalação de Redes de Distribuição...  2020-03-24 00:07:25.923   \n",
       "3  PRICESExpensiveCheapWhich one is more expensiv...  2015-09-18 11:01:19.163   \n",
       "4  GoddessDress InspirationsDreamEmotionsMagicSha...  2017-03-08 00:49:22.803   \n",
       "\n",
       "               dateUpdated  themeID                                userID  \\\n",
       "0  2016-10-16 10:17:29.870    11054  316d7252-485a-4f0d-8995-70be515b7bd1   \n",
       "1  2015-03-11 12:34:46.093     8047  048710c8-4346-4008-8ff4-37451577e8bd   \n",
       "2  2020-04-18 19:26:27.137    47314  859cad3d-a17c-4c02-9ca8-b0ac9c8c28c1   \n",
       "3  2020-05-18 21:44:16.953    13058  291f19fa-70e3-417a-94c1-cbb4fd437203   \n",
       "4  2017-04-29 18:22:49.977     4024  80c9dfea-07c7-474c-9177-59bf732b5123   \n",
       "\n",
       "   views  privacy  collaborationFlag  ...  linkedinShares twitterShares  \\\n",
       "0     41        3                  0  ...               0             0   \n",
       "1     10        3                  0  ...               0             0   \n",
       "2     14        3                  0  ...               0             0   \n",
       "3    153        3                  0  ...               0             0   \n",
       "4    182        3                  0  ...               0             0   \n",
       "\n",
       "   pinterestShares                                UserId       IpAddress  \\\n",
       "0                0  316d7252-485a-4f0d-8995-70be515b7bd1  189.203.45.177   \n",
       "1                0  048710c8-4346-4008-8ff4-37451577e8bd    62.90.24.165   \n",
       "2                0  859cad3d-a17c-4c02-9ca8-b0ac9c8c28c1   177.221.59.32   \n",
       "3                0  291f19fa-70e3-417a-94c1-cbb4fd437203  177.180.30.179   \n",
       "4                0  80c9dfea-07c7-474c-9177-59bf732b5123  68.103.152.141   \n",
       "\n",
       "   CountryCode             RegisterDate            LastLoginDate  \\\n",
       "0           MX  2016-10-13 16:24:04.547  2016-10-16 18:07:26.503   \n",
       "1           IL  2015-03-02 14:57:04.493  2017-01-19 15:09:45.117   \n",
       "2           BR  2020-01-15 20:25:10.753  2020-04-20 21:32:20.807   \n",
       "3           BR  2015-03-23 23:50:47.077  2020-06-24 23:45:37.987   \n",
       "4           US  2016-12-17 19:03:34.857  2017-04-29 17:59:55.877   \n",
       "\n",
       "  PremiumStartDate PremiumEndDate  \n",
       "0              NaN            NaN  \n",
       "1              NaN            NaN  \n",
       "2              NaN            NaN  \n",
       "3              NaN            NaN  \n",
       "4              NaN            NaN  \n",
       "\n",
       "[5 rows x 24 columns]"
      ]
     },
     "execution_count": 36,
     "metadata": {},
     "output_type": "execute_result"
    }
   ],
   "source": [
    "df_slides.head()"
   ]
  },
  {
   "cell_type": "code",
   "execution_count": 37,
   "metadata": {},
   "outputs": [
    {
     "data": {
      "text/plain": [
       "Index(['presentationID', 'name', 'description', 'dateCreated', 'dateUpdated',\n",
       "       'themeID', 'userID', 'views', 'privacy', 'collaborationFlag',\n",
       "       'slideCount', 'language', 'facebookShares', 'googlePlusShares',\n",
       "       'linkedinShares', 'twitterShares', 'pinterestShares', 'UserId',\n",
       "       'IpAddress', 'CountryCode', 'RegisterDate', 'LastLoginDate',\n",
       "       'PremiumStartDate', 'PremiumEndDate'],\n",
       "      dtype='object')"
      ]
     },
     "execution_count": 37,
     "metadata": {},
     "output_type": "execute_result"
    }
   ],
   "source": [
    "df_slides.columns"
   ]
  },
  {
   "cell_type": "markdown",
   "metadata": {},
   "source": [
    "## Which countries have presentations with the most slides?"
   ]
  },
  {
   "cell_type": "code",
   "execution_count": 38,
   "metadata": {},
   "outputs": [
    {
     "data": {
      "text/plain": [
       "CountryCode\n",
       "US    1761\n",
       "MX    1274\n",
       "CO     762\n",
       "BR     598\n",
       "ES     490\n",
       "Name: presentationID, dtype: int64"
      ]
     },
     "execution_count": 38,
     "metadata": {},
     "output_type": "execute_result"
    }
   ],
   "source": [
    "df_slides.groupby('CountryCode')['presentationID'].count().sort_values(ascending=False).head()"
   ]
  },
  {
   "cell_type": "code",
   "execution_count": 84,
   "metadata": {},
   "outputs": [
    {
     "data": {
      "image/png": "[encoded data removed]",
      "text/plain": [
       "<Figure size 432x288 with 1 Axes>"
      ]
     },
     "metadata": {},
     "output_type": "display_data"
    }
   ],
   "source": [
    "ax = sns.countplot(x='CountryCode', data= df_slides[(df_slides.CountryCode == 'US') | (df_slides.CountryCode == 'MX') | (df_slides.CountryCode == 'CO') | (df_slides.CountryCode == 'ES') | (df_slides.CountryCode == 'BR')]).set_title('Top 5 Countries')"
   ]
  },
  {
   "cell_type": "markdown",
   "metadata": {},
   "source": [
    "## Which themeID is most popular among the presentations with most slides?"
   ]
  },
  {
   "cell_type": "code",
   "execution_count": 39,
   "metadata": {},
   "outputs": [
    {
     "data": {
      "text/plain": [
       "themeID\n",
       "11054    625\n",
       "11055    380\n",
       "1021     310\n",
       "46670    302\n",
       "47565    256\n",
       "Name: presentationID, dtype: int64"
      ]
     },
     "execution_count": 39,
     "metadata": {},
     "output_type": "execute_result"
    }
   ],
   "source": [
    "df_slides.groupby('themeID')['presentationID'].count().sort_values(ascending=False).head()"
   ]
  },
  {
   "cell_type": "code",
   "execution_count": 85,
   "metadata": {},
   "outputs": [
    {
     "data": {
      "image/png": "[encoded data removed]",
      "text/plain": [
       "<Figure size 432x288 with 1 Axes>"
      ]
     },
     "metadata": {},
     "output_type": "display_data"
    }
   ],
   "source": [
    "ax = sns.countplot(x='themeID', data= df_slides[(df_slides.themeID == 11054) | (df_slides.themeID == 11055) | (df_slides.themeID == 1021) | (df_slides.themeID == 46670) | (df_slides.themeID == 47565)]).set_title('Top 5 ThemeIDs')"
   ]
  },
  {
   "cell_type": "markdown",
   "metadata": {},
   "source": [
    "## How many of the most viewed presentations belong to premium users?"
   ]
  },
  {
   "cell_type": "code",
   "execution_count": 40,
   "metadata": {},
   "outputs": [
    {
     "data": {
      "text/plain": [
       "2583"
      ]
     },
     "execution_count": 40,
     "metadata": {},
     "output_type": "execute_result"
    }
   ],
   "source": [
    "df_slides['PremiumStartDate'].count()"
   ]
  },
  {
   "cell_type": "markdown",
   "metadata": {},
   "source": [
    "25% of the users with the most slides have at one point been premium"
   ]
  },
  {
   "cell_type": "markdown",
   "metadata": {},
   "source": [
    "## Shares"
   ]
  },
  {
   "cell_type": "code",
   "execution_count": 41,
   "metadata": {},
   "outputs": [],
   "source": [
    "df_slides['total_shares'] = df_slides['facebookShares'] + df_slides['googlePlusShares'] + df_slides['linkedinShares'] + df_slides['twitterShares'] + df_slides['pinterestShares']"
   ]
  },
  {
   "cell_type": "code",
   "execution_count": 42,
   "metadata": {
    "scrolled": false
   },
   "outputs": [
    {
     "data": {
      "text/plain": [
       "6877    4\n",
       "6871    4\n",
       "6945    2\n",
       "Name: total_shares, dtype: int64"
      ]
     },
     "execution_count": 42,
     "metadata": {},
     "output_type": "execute_result"
    }
   ],
   "source": [
    "df_slides[df_slides.total_shares != 0]['total_shares'].sort_values(ascending = False).head()"
   ]
  },
  {
   "cell_type": "markdown",
   "metadata": {},
   "source": [
    "## Privacy"
   ]
  },
  {
   "cell_type": "code",
   "execution_count": 67,
   "metadata": {
    "scrolled": true
   },
   "outputs": [
    {
     "data": {
      "text/plain": [
       "(1691, 25)"
      ]
     },
     "execution_count": 67,
     "metadata": {},
     "output_type": "execute_result"
    }
   ],
   "source": [
    "df_slides[df_slides.privacy != 3].shape"
   ]
  },
  {
   "cell_type": "code",
   "execution_count": 92,
   "metadata": {
    "scrolled": true
   },
   "outputs": [
    {
     "data": {
      "image/png": "[encoded data removed]",
      "text/plain": [
       "<Figure size 432x288 with 1 Axes>"
      ]
     },
     "metadata": {},
     "output_type": "display_data"
    }
   ],
   "source": [
    "ax = sns.countplot(x='privacy', data= df_slides).set_title('Privacy')"
   ]
  },
  {
   "cell_type": "markdown",
   "metadata": {},
   "source": [
    "17% of the top 10,000 presentations with the most slides are NOT public"
   ]
  },
  {
   "cell_type": "markdown",
   "metadata": {},
   "source": [
    "## Collaborators"
   ]
  },
  {
   "cell_type": "code",
   "execution_count": 69,
   "metadata": {},
   "outputs": [
    {
     "data": {
      "text/plain": [
       "(115, 25)"
      ]
     },
     "execution_count": 69,
     "metadata": {},
     "output_type": "execute_result"
    }
   ],
   "source": [
    "df_slides[df_slides.collaborationFlag == 1].shape"
   ]
  },
  {
   "cell_type": "markdown",
   "metadata": {},
   "source": [
    "***"
   ]
  },
  {
   "cell_type": "markdown",
   "metadata": {},
   "source": [
    "# Takeaways"
   ]
  },
  {
   "cell_type": "markdown",
   "metadata": {},
   "source": [
    "- Power users are from the US (most viewed presentations and most slides)\n",
    "- ThemeID 11054 is a theme that brings success\n",
    "- Users that make presentations with lots of slides are more likely to be Premium users than users with presentations with lots of views\n",
    "- Lots of Views = More Shares, Lots of Slides != More Shares\n",
    "- The collaboration feature is not very impactful as many are not using  it"
   ]
  },
  {
   "cell_type": "markdown",
   "metadata": {},
   "source": [
    "***"
   ]
  },
  {
   "cell_type": "markdown",
   "metadata": {},
   "source": [
    "***"
   ]
  },
  {
   "cell_type": "markdown",
   "metadata": {},
   "source": [
    "### This dataset contains the top 10,000 users who have created the most amount of presentations"
   ]
  },
  {
   "cell_type": "code",
   "execution_count": 43,
   "metadata": {},
   "outputs": [],
   "source": [
    "df_count = pd.read_csv('data/Presentations_count.csv')"
   ]
  },
  {
   "cell_type": "code",
   "execution_count": 63,
   "metadata": {},
   "outputs": [
    {
     "data": {
      "text/html": [
       "<div>\n",
       "<style scoped>\n",
       "    .dataframe tbody tr th:only-of-type {\n",
       "        vertical-align: middle;\n",
       "    }\n",
       "\n",
       "    .dataframe tbody tr th {\n",
       "        vertical-align: top;\n",
       "    }\n",
       "\n",
       "    .dataframe thead th {\n",
       "        text-align: right;\n",
       "    }\n",
       "</style>\n",
       "<table border=\"1\" class=\"dataframe\">\n",
       "  <thead>\n",
       "    <tr style=\"text-align: right;\">\n",
       "      <th></th>\n",
       "      <th>userID</th>\n",
       "      <th>total_pre</th>\n",
       "      <th>total_views</th>\n",
       "      <th>total_slides</th>\n",
       "      <th>fb</th>\n",
       "      <th>gp</th>\n",
       "      <th>li</th>\n",
       "      <th>tw</th>\n",
       "      <th>pi</th>\n",
       "      <th>UserId</th>\n",
       "      <th>IpAddress</th>\n",
       "      <th>CountryCode</th>\n",
       "      <th>RegisterDate</th>\n",
       "      <th>LastLoginDate</th>\n",
       "      <th>PremiumStartDate</th>\n",
       "      <th>PremiumEndDate</th>\n",
       "    </tr>\n",
       "  </thead>\n",
       "  <tbody>\n",
       "    <tr>\n",
       "      <td>0</td>\n",
       "      <td>87e2923a-fd01-43ac-8369-864081916f83</td>\n",
       "      <td>34661</td>\n",
       "      <td>658938</td>\n",
       "      <td>231</td>\n",
       "      <td>141</td>\n",
       "      <td>36</td>\n",
       "      <td>90</td>\n",
       "      <td>82</td>\n",
       "      <td>78</td>\n",
       "      <td>87e2923a-fd01-43ac-8369-864081916f83</td>\n",
       "      <td>37.142.18.22</td>\n",
       "      <td>IL</td>\n",
       "      <td>2017-09-14 14:15:32.497</td>\n",
       "      <td>2020-06-15 09:40:48.607</td>\n",
       "      <td>2017-08-14 09:09:02.503</td>\n",
       "      <td>2022-04-14 06:47:36.370</td>\n",
       "    </tr>\n",
       "    <tr>\n",
       "      <td>1</td>\n",
       "      <td>3e41b10d-373c-4af3-a599-6c6fc5ef4906</td>\n",
       "      <td>4648</td>\n",
       "      <td>132062</td>\n",
       "      <td>19147</td>\n",
       "      <td>0</td>\n",
       "      <td>0</td>\n",
       "      <td>0</td>\n",
       "      <td>0</td>\n",
       "      <td>0</td>\n",
       "      <td>3e41b10d-373c-4af3-a599-6c6fc5ef4906</td>\n",
       "      <td>189.211.179.148</td>\n",
       "      <td>MX</td>\n",
       "      <td>2015-10-19 18:04:01.607</td>\n",
       "      <td>2016-05-28 22:01:30.747</td>\n",
       "      <td>2015-10-19 19:58:29.410</td>\n",
       "      <td>2016-10-19 19:58:29.410</td>\n",
       "    </tr>\n",
       "    <tr>\n",
       "      <td>2</td>\n",
       "      <td>5ebd12fc-508b-4eaa-98b5-9d1c07eea382</td>\n",
       "      <td>4123</td>\n",
       "      <td>12033</td>\n",
       "      <td>17528</td>\n",
       "      <td>0</td>\n",
       "      <td>0</td>\n",
       "      <td>0</td>\n",
       "      <td>0</td>\n",
       "      <td>0</td>\n",
       "      <td>5ebd12fc-508b-4eaa-98b5-9d1c07eea382</td>\n",
       "      <td>201.144.206.244</td>\n",
       "      <td>MX</td>\n",
       "      <td>2015-12-04 22:42:50.063</td>\n",
       "      <td>2016-11-08 23:30:46.487</td>\n",
       "      <td>2015-12-05 09:57:44.613</td>\n",
       "      <td>2016-12-05 09:57:44.613</td>\n",
       "    </tr>\n",
       "    <tr>\n",
       "      <td>3</td>\n",
       "      <td>15010f03-4796-4bc0-9939-6189f347e1a6</td>\n",
       "      <td>3751</td>\n",
       "      <td>55</td>\n",
       "      <td>7384</td>\n",
       "      <td>0</td>\n",
       "      <td>0</td>\n",
       "      <td>0</td>\n",
       "      <td>0</td>\n",
       "      <td>0</td>\n",
       "      <td>15010f03-4796-4bc0-9939-6189f347e1a6</td>\n",
       "      <td>182.191.117.32</td>\n",
       "      <td>PK</td>\n",
       "      <td>2016-11-03 06:09:11.227</td>\n",
       "      <td>2016-12-05 10:52:11.123</td>\n",
       "      <td>NaN</td>\n",
       "      <td>NaN</td>\n",
       "    </tr>\n",
       "    <tr>\n",
       "      <td>4</td>\n",
       "      <td>3389ccd5-353d-429a-9006-122416dfff77</td>\n",
       "      <td>3647</td>\n",
       "      <td>895</td>\n",
       "      <td>7207</td>\n",
       "      <td>0</td>\n",
       "      <td>0</td>\n",
       "      <td>0</td>\n",
       "      <td>0</td>\n",
       "      <td>0</td>\n",
       "      <td>3389ccd5-353d-429a-9006-122416dfff77</td>\n",
       "      <td>39.53.116.74</td>\n",
       "      <td>PK</td>\n",
       "      <td>2016-08-01 06:38:31.147</td>\n",
       "      <td>2016-10-27 08:30:03.753</td>\n",
       "      <td>NaN</td>\n",
       "      <td>NaN</td>\n",
       "    </tr>\n",
       "  </tbody>\n",
       "</table>\n",
       "</div>"
      ],
      "text/plain": [
       "                                 userID  total_pre  total_views  total_slides  \\\n",
       "0  87e2923a-fd01-43ac-8369-864081916f83      34661       658938           231   \n",
       "1  3e41b10d-373c-4af3-a599-6c6fc5ef4906       4648       132062         19147   \n",
       "2  5ebd12fc-508b-4eaa-98b5-9d1c07eea382       4123        12033         17528   \n",
       "3  15010f03-4796-4bc0-9939-6189f347e1a6       3751           55          7384   \n",
       "4  3389ccd5-353d-429a-9006-122416dfff77       3647          895          7207   \n",
       "\n",
       "    fb  gp  li  tw  pi                                UserId        IpAddress  \\\n",
       "0  141  36  90  82  78  87e2923a-fd01-43ac-8369-864081916f83     37.142.18.22   \n",
       "1    0   0   0   0   0  3e41b10d-373c-4af3-a599-6c6fc5ef4906  189.211.179.148   \n",
       "2    0   0   0   0   0  5ebd12fc-508b-4eaa-98b5-9d1c07eea382  201.144.206.244   \n",
       "3    0   0   0   0   0  15010f03-4796-4bc0-9939-6189f347e1a6   182.191.117.32   \n",
       "4    0   0   0   0   0  3389ccd5-353d-429a-9006-122416dfff77     39.53.116.74   \n",
       "\n",
       "  CountryCode             RegisterDate            LastLoginDate  \\\n",
       "0          IL  2017-09-14 14:15:32.497  2020-06-15 09:40:48.607   \n",
       "1          MX  2015-10-19 18:04:01.607  2016-05-28 22:01:30.747   \n",
       "2          MX  2015-12-04 22:42:50.063  2016-11-08 23:30:46.487   \n",
       "3          PK  2016-11-03 06:09:11.227  2016-12-05 10:52:11.123   \n",
       "4          PK  2016-08-01 06:38:31.147  2016-10-27 08:30:03.753   \n",
       "\n",
       "          PremiumStartDate           PremiumEndDate  \n",
       "0  2017-08-14 09:09:02.503  2022-04-14 06:47:36.370  \n",
       "1  2015-10-19 19:58:29.410  2016-10-19 19:58:29.410  \n",
       "2  2015-12-05 09:57:44.613  2016-12-05 09:57:44.613  \n",
       "3                      NaN                      NaN  \n",
       "4                      NaN                      NaN  "
      ]
     },
     "execution_count": 63,
     "metadata": {},
     "output_type": "execute_result"
    }
   ],
   "source": [
    "df_count.head()"
   ]
  },
  {
   "cell_type": "markdown",
   "metadata": {},
   "source": [
    "## Country"
   ]
  },
  {
   "cell_type": "code",
   "execution_count": 45,
   "metadata": {},
   "outputs": [
    {
     "data": {
      "text/plain": [
       "CountryCode\n",
       "US    6704\n",
       "MX     553\n",
       "IL     291\n",
       "CO     287\n",
       "BR     152\n",
       "Name: userID, dtype: int64"
      ]
     },
     "execution_count": 45,
     "metadata": {},
     "output_type": "execute_result"
    }
   ],
   "source": [
    "df_count.groupby('CountryCode')['userID'].count().sort_values(ascending=False).head()"
   ]
  },
  {
   "cell_type": "code",
   "execution_count": 94,
   "metadata": {},
   "outputs": [
    {
     "data": {
      "image/png": "[encoded data removed]",
      "text/plain": [
       "<Figure size 432x288 with 1 Axes>"
      ]
     },
     "metadata": {},
     "output_type": "display_data"
    }
   ],
   "source": [
    "ax = sns.countplot(x='CountryCode', data= df_count[(df_count.CountryCode == 'US') | (df_count.CountryCode == 'MX') | (df_count.CountryCode == 'IL') | (df_count.CountryCode == 'CO') | (df_count.CountryCode == 'BR')]).set_title('Top 5 Countries')"
   ]
  },
  {
   "cell_type": "markdown",
   "metadata": {},
   "source": [
    "## Premium?"
   ]
  },
  {
   "cell_type": "code",
   "execution_count": 46,
   "metadata": {},
   "outputs": [
    {
     "data": {
      "text/plain": [
       "1820"
      ]
     },
     "execution_count": 46,
     "metadata": {},
     "output_type": "execute_result"
    }
   ],
   "source": [
    "df_count['PremiumStartDate'].count()"
   ]
  },
  {
   "cell_type": "markdown",
   "metadata": {},
   "source": [
    "18% of the top 10,000 users with the most presentations are premium users"
   ]
  },
  {
   "cell_type": "markdown",
   "metadata": {},
   "source": [
    "***"
   ]
  },
  {
   "cell_type": "markdown",
   "metadata": {},
   "source": [
    "### This dataset contains the top 10,000 users with the most views on their presentations"
   ]
  },
  {
   "cell_type": "code",
   "execution_count": 48,
   "metadata": {},
   "outputs": [],
   "source": [
    "views = pd.read_csv('data/Presentations_count_byviews.csv')"
   ]
  },
  {
   "cell_type": "code",
   "execution_count": 49,
   "metadata": {
    "scrolled": true
   },
   "outputs": [
    {
     "data": {
      "text/html": [
       "<div>\n",
       "<style scoped>\n",
       "    .dataframe tbody tr th:only-of-type {\n",
       "        vertical-align: middle;\n",
       "    }\n",
       "\n",
       "    .dataframe tbody tr th {\n",
       "        vertical-align: top;\n",
       "    }\n",
       "\n",
       "    .dataframe thead th {\n",
       "        text-align: right;\n",
       "    }\n",
       "</style>\n",
       "<table border=\"1\" class=\"dataframe\">\n",
       "  <thead>\n",
       "    <tr style=\"text-align: right;\">\n",
       "      <th></th>\n",
       "      <th>userID</th>\n",
       "      <th>total_pre</th>\n",
       "      <th>total_views</th>\n",
       "      <th>total_slides</th>\n",
       "      <th>fb</th>\n",
       "      <th>gp</th>\n",
       "      <th>li</th>\n",
       "      <th>tw</th>\n",
       "      <th>pi</th>\n",
       "      <th>UserId</th>\n",
       "      <th>IpAddress</th>\n",
       "      <th>CountryCode</th>\n",
       "      <th>RegisterDate</th>\n",
       "      <th>LastLoginDate</th>\n",
       "      <th>PremiumStartDate</th>\n",
       "      <th>PremiumEndDate</th>\n",
       "    </tr>\n",
       "  </thead>\n",
       "  <tbody>\n",
       "    <tr>\n",
       "      <td>0</td>\n",
       "      <td>18d5fe79-926b-489c-9dc3-406641760d0d</td>\n",
       "      <td>600</td>\n",
       "      <td>14365878</td>\n",
       "      <td>4405.0</td>\n",
       "      <td>87</td>\n",
       "      <td>71</td>\n",
       "      <td>16</td>\n",
       "      <td>16</td>\n",
       "      <td>28</td>\n",
       "      <td>18d5fe79-926b-489c-9dc3-406641760d0d</td>\n",
       "      <td>80.178.195.170</td>\n",
       "      <td>IL</td>\n",
       "      <td>2015-09-20 14:35:04.737</td>\n",
       "      <td>2020-06-25 13:44:10.123</td>\n",
       "      <td>2019-06-17 06:53:28.407</td>\n",
       "      <td>2021-06-23 12:25:58.153</td>\n",
       "    </tr>\n",
       "    <tr>\n",
       "      <td>1</td>\n",
       "      <td>fe58bbba-c36c-411e-bd55-7cc05b9c0c5c</td>\n",
       "      <td>6</td>\n",
       "      <td>3397363</td>\n",
       "      <td>33.0</td>\n",
       "      <td>0</td>\n",
       "      <td>0</td>\n",
       "      <td>0</td>\n",
       "      <td>0</td>\n",
       "      <td>0</td>\n",
       "      <td>fe58bbba-c36c-411e-bd55-7cc05b9c0c5c</td>\n",
       "      <td>148.229.15.97</td>\n",
       "      <td>MX</td>\n",
       "      <td>2017-03-29 16:21:08.100</td>\n",
       "      <td>2019-08-12 16:54:15.490</td>\n",
       "      <td>NaN</td>\n",
       "      <td>NaN</td>\n",
       "    </tr>\n",
       "    <tr>\n",
       "      <td>2</td>\n",
       "      <td>9861779c-bca6-4661-ab40-7f5202b5b916</td>\n",
       "      <td>142</td>\n",
       "      <td>1144949</td>\n",
       "      <td>1047.0</td>\n",
       "      <td>26</td>\n",
       "      <td>8</td>\n",
       "      <td>3</td>\n",
       "      <td>5</td>\n",
       "      <td>3</td>\n",
       "      <td>9861779c-bca6-4661-ab40-7f5202b5b916</td>\n",
       "      <td>148.229.43.21</td>\n",
       "      <td>MX</td>\n",
       "      <td>2018-06-08 16:32:15.047</td>\n",
       "      <td>2020-06-19 14:47:55.880</td>\n",
       "      <td>2018-09-03 17:09:25.913</td>\n",
       "      <td>2020-09-03 18:01:23.640</td>\n",
       "    </tr>\n",
       "    <tr>\n",
       "      <td>3</td>\n",
       "      <td>e2ee2dc3-a514-41da-a7f5-ea00e6f129fe</td>\n",
       "      <td>14</td>\n",
       "      <td>920226</td>\n",
       "      <td>114.0</td>\n",
       "      <td>0</td>\n",
       "      <td>0</td>\n",
       "      <td>0</td>\n",
       "      <td>0</td>\n",
       "      <td>0</td>\n",
       "      <td>e2ee2dc3-a514-41da-a7f5-ea00e6f129fe</td>\n",
       "      <td>212.219.14.254</td>\n",
       "      <td>GB</td>\n",
       "      <td>2014-01-27 10:57:46.863</td>\n",
       "      <td>2015-11-09 11:02:32.787</td>\n",
       "      <td>NaN</td>\n",
       "      <td>NaN</td>\n",
       "    </tr>\n",
       "    <tr>\n",
       "      <td>4</td>\n",
       "      <td>279f6e96-9cd7-4f31-a07f-831e4c29b3ba</td>\n",
       "      <td>293</td>\n",
       "      <td>911271</td>\n",
       "      <td>2823.0</td>\n",
       "      <td>2</td>\n",
       "      <td>0</td>\n",
       "      <td>1</td>\n",
       "      <td>0</td>\n",
       "      <td>2</td>\n",
       "      <td>279f6e96-9cd7-4f31-a07f-831e4c29b3ba</td>\n",
       "      <td>189.203.12.178</td>\n",
       "      <td>MX</td>\n",
       "      <td>2016-04-01 00:48:59.847</td>\n",
       "      <td>2020-03-19 21:04:49.037</td>\n",
       "      <td>2018-07-19 14:46:15.207</td>\n",
       "      <td>2020-07-19 15:00:32.550</td>\n",
       "    </tr>\n",
       "  </tbody>\n",
       "</table>\n",
       "</div>"
      ],
      "text/plain": [
       "                                 userID  total_pre  total_views  total_slides  \\\n",
       "0  18d5fe79-926b-489c-9dc3-406641760d0d        600     14365878        4405.0   \n",
       "1  fe58bbba-c36c-411e-bd55-7cc05b9c0c5c          6      3397363          33.0   \n",
       "2  9861779c-bca6-4661-ab40-7f5202b5b916        142      1144949        1047.0   \n",
       "3  e2ee2dc3-a514-41da-a7f5-ea00e6f129fe         14       920226         114.0   \n",
       "4  279f6e96-9cd7-4f31-a07f-831e4c29b3ba        293       911271        2823.0   \n",
       "\n",
       "   fb  gp  li  tw  pi                                UserId       IpAddress  \\\n",
       "0  87  71  16  16  28  18d5fe79-926b-489c-9dc3-406641760d0d  80.178.195.170   \n",
       "1   0   0   0   0   0  fe58bbba-c36c-411e-bd55-7cc05b9c0c5c   148.229.15.97   \n",
       "2  26   8   3   5   3  9861779c-bca6-4661-ab40-7f5202b5b916   148.229.43.21   \n",
       "3   0   0   0   0   0  e2ee2dc3-a514-41da-a7f5-ea00e6f129fe  212.219.14.254   \n",
       "4   2   0   1   0   2  279f6e96-9cd7-4f31-a07f-831e4c29b3ba  189.203.12.178   \n",
       "\n",
       "  CountryCode             RegisterDate            LastLoginDate  \\\n",
       "0          IL  2015-09-20 14:35:04.737  2020-06-25 13:44:10.123   \n",
       "1          MX  2017-03-29 16:21:08.100  2019-08-12 16:54:15.490   \n",
       "2          MX  2018-06-08 16:32:15.047  2020-06-19 14:47:55.880   \n",
       "3          GB  2014-01-27 10:57:46.863  2015-11-09 11:02:32.787   \n",
       "4          MX  2016-04-01 00:48:59.847  2020-03-19 21:04:49.037   \n",
       "\n",
       "          PremiumStartDate           PremiumEndDate  \n",
       "0  2019-06-17 06:53:28.407  2021-06-23 12:25:58.153  \n",
       "1                      NaN                      NaN  \n",
       "2  2018-09-03 17:09:25.913  2020-09-03 18:01:23.640  \n",
       "3                      NaN                      NaN  \n",
       "4  2018-07-19 14:46:15.207  2020-07-19 15:00:32.550  "
      ]
     },
     "execution_count": 49,
     "metadata": {},
     "output_type": "execute_result"
    }
   ],
   "source": [
    "views.head()"
   ]
  },
  {
   "cell_type": "markdown",
   "metadata": {},
   "source": [
    "## Country"
   ]
  },
  {
   "cell_type": "code",
   "execution_count": 52,
   "metadata": {},
   "outputs": [
    {
     "data": {
      "text/plain": [
       "CountryCode\n",
       "US    2113\n",
       "MX    1411\n",
       "CO    1196\n",
       "ES     513\n",
       "GB     356\n",
       "Name: userID, dtype: int64"
      ]
     },
     "execution_count": 52,
     "metadata": {},
     "output_type": "execute_result"
    }
   ],
   "source": [
    "views.groupby('CountryCode')['userID'].count().sort_values(ascending=False).head()"
   ]
  },
  {
   "cell_type": "code",
   "execution_count": 95,
   "metadata": {},
   "outputs": [
    {
     "data": {
      "image/png": "[encoded data removed]",
      "text/plain": [
       "<Figure size 432x288 with 1 Axes>"
      ]
     },
     "metadata": {},
     "output_type": "display_data"
    }
   ],
   "source": [
    "ax = sns.countplot(x='CountryCode', data= views[(views.CountryCode == 'US') | (views.CountryCode == 'MX') | (views.CountryCode == 'CO') | (views.CountryCode == 'ES') | (views.CountryCode == 'GB')]).set_title('Top 5 Countries')"
   ]
  },
  {
   "cell_type": "markdown",
   "metadata": {},
   "source": [
    "## Premium?"
   ]
  },
  {
   "cell_type": "code",
   "execution_count": 64,
   "metadata": {
    "scrolled": true
   },
   "outputs": [
    {
     "data": {
      "text/plain": [
       "1035"
      ]
     },
     "execution_count": 64,
     "metadata": {},
     "output_type": "execute_result"
    }
   ],
   "source": [
    "views['PremiumStartDate'].count()"
   ]
  },
  {
   "cell_type": "markdown",
   "metadata": {},
   "source": [
    "10% of the top 10,000 users with the most views are premium users"
   ]
  },
  {
   "cell_type": "markdown",
   "metadata": {},
   "source": [
    "***"
   ]
  },
  {
   "cell_type": "markdown",
   "metadata": {},
   "source": [
    "### This dataset contains the top 10,000 users with the most total slides on their presentations"
   ]
  },
  {
   "cell_type": "code",
   "execution_count": 50,
   "metadata": {},
   "outputs": [],
   "source": [
    "slides = pd.read_csv('data/Presentations_count_byslides.csv')"
   ]
  },
  {
   "cell_type": "code",
   "execution_count": 51,
   "metadata": {
    "scrolled": true
   },
   "outputs": [
    {
     "data": {
      "text/html": [
       "<div>\n",
       "<style scoped>\n",
       "    .dataframe tbody tr th:only-of-type {\n",
       "        vertical-align: middle;\n",
       "    }\n",
       "\n",
       "    .dataframe tbody tr th {\n",
       "        vertical-align: top;\n",
       "    }\n",
       "\n",
       "    .dataframe thead th {\n",
       "        text-align: right;\n",
       "    }\n",
       "</style>\n",
       "<table border=\"1\" class=\"dataframe\">\n",
       "  <thead>\n",
       "    <tr style=\"text-align: right;\">\n",
       "      <th></th>\n",
       "      <th>userID</th>\n",
       "      <th>total_pre</th>\n",
       "      <th>total_views</th>\n",
       "      <th>total_slides</th>\n",
       "      <th>fb</th>\n",
       "      <th>gp</th>\n",
       "      <th>li</th>\n",
       "      <th>tw</th>\n",
       "      <th>pi</th>\n",
       "      <th>UserId</th>\n",
       "      <th>IpAddress</th>\n",
       "      <th>CountryCode</th>\n",
       "      <th>RegisterDate</th>\n",
       "      <th>LastLoginDate</th>\n",
       "      <th>PremiumStartDate</th>\n",
       "      <th>PremiumEndDate</th>\n",
       "    </tr>\n",
       "  </thead>\n",
       "  <tbody>\n",
       "    <tr>\n",
       "      <td>0</td>\n",
       "      <td>cc9cc585-2149-4675-903e-aa5182235b8c</td>\n",
       "      <td>1113</td>\n",
       "      <td>8545</td>\n",
       "      <td>25156</td>\n",
       "      <td>0</td>\n",
       "      <td>0</td>\n",
       "      <td>0</td>\n",
       "      <td>0</td>\n",
       "      <td>0</td>\n",
       "      <td>cc9cc585-2149-4675-903e-aa5182235b8c</td>\n",
       "      <td>187.178.191.185</td>\n",
       "      <td>MX</td>\n",
       "      <td>2014-12-26 16:55:41.853</td>\n",
       "      <td>2018-02-01 03:08:51.673</td>\n",
       "      <td>2016-01-18 16:17:17.820</td>\n",
       "      <td>2018-01-21 16:17:17.820</td>\n",
       "    </tr>\n",
       "    <tr>\n",
       "      <td>1</td>\n",
       "      <td>3a07b126-d0f0-4c52-8422-bee0be413aa1</td>\n",
       "      <td>1244</td>\n",
       "      <td>18175</td>\n",
       "      <td>20763</td>\n",
       "      <td>0</td>\n",
       "      <td>0</td>\n",
       "      <td>0</td>\n",
       "      <td>0</td>\n",
       "      <td>0</td>\n",
       "      <td>3a07b126-d0f0-4c52-8422-bee0be413aa1</td>\n",
       "      <td>76.98.16.182</td>\n",
       "      <td>US</td>\n",
       "      <td>2015-04-13 12:30:21.567</td>\n",
       "      <td>2018-08-20 15:02:36.977</td>\n",
       "      <td>2018-06-04 04:36:42.837</td>\n",
       "      <td>2019-06-04 04:36:42.837</td>\n",
       "    </tr>\n",
       "    <tr>\n",
       "      <td>2</td>\n",
       "      <td>bb296418-ed91-483c-98d7-3337ba7271f1</td>\n",
       "      <td>397</td>\n",
       "      <td>7085</td>\n",
       "      <td>20683</td>\n",
       "      <td>0</td>\n",
       "      <td>0</td>\n",
       "      <td>0</td>\n",
       "      <td>0</td>\n",
       "      <td>0</td>\n",
       "      <td>bb296418-ed91-483c-98d7-3337ba7271f1</td>\n",
       "      <td>187.140.221.62</td>\n",
       "      <td>MX</td>\n",
       "      <td>2015-04-04 21:24:48.420</td>\n",
       "      <td>2020-05-16 04:49:13.887</td>\n",
       "      <td>2018-07-14 00:11:08.750</td>\n",
       "      <td>2020-07-14 01:00:18.750</td>\n",
       "    </tr>\n",
       "    <tr>\n",
       "      <td>3</td>\n",
       "      <td>371088ec-ccd9-4c1e-acb3-6c3b43c84627</td>\n",
       "      <td>1641</td>\n",
       "      <td>25760</td>\n",
       "      <td>19196</td>\n",
       "      <td>3</td>\n",
       "      <td>0</td>\n",
       "      <td>0</td>\n",
       "      <td>1</td>\n",
       "      <td>0</td>\n",
       "      <td>371088ec-ccd9-4c1e-acb3-6c3b43c84627</td>\n",
       "      <td>80.178.195.170</td>\n",
       "      <td>IL</td>\n",
       "      <td>2017-11-15 10:32:38.790</td>\n",
       "      <td>2020-06-18 06:25:49.287</td>\n",
       "      <td>2019-06-17 06:53:28.407</td>\n",
       "      <td>2021-06-23 12:25:58.153</td>\n",
       "    </tr>\n",
       "    <tr>\n",
       "      <td>4</td>\n",
       "      <td>3e41b10d-373c-4af3-a599-6c6fc5ef4906</td>\n",
       "      <td>4648</td>\n",
       "      <td>132061</td>\n",
       "      <td>19147</td>\n",
       "      <td>0</td>\n",
       "      <td>0</td>\n",
       "      <td>0</td>\n",
       "      <td>0</td>\n",
       "      <td>0</td>\n",
       "      <td>3e41b10d-373c-4af3-a599-6c6fc5ef4906</td>\n",
       "      <td>189.211.179.148</td>\n",
       "      <td>MX</td>\n",
       "      <td>2015-10-19 18:04:01.607</td>\n",
       "      <td>2016-05-28 22:01:30.747</td>\n",
       "      <td>2015-10-19 19:58:29.410</td>\n",
       "      <td>2016-10-19 19:58:29.410</td>\n",
       "    </tr>\n",
       "  </tbody>\n",
       "</table>\n",
       "</div>"
      ],
      "text/plain": [
       "                                 userID  total_pre  total_views  total_slides  \\\n",
       "0  cc9cc585-2149-4675-903e-aa5182235b8c       1113         8545         25156   \n",
       "1  3a07b126-d0f0-4c52-8422-bee0be413aa1       1244        18175         20763   \n",
       "2  bb296418-ed91-483c-98d7-3337ba7271f1        397         7085         20683   \n",
       "3  371088ec-ccd9-4c1e-acb3-6c3b43c84627       1641        25760         19196   \n",
       "4  3e41b10d-373c-4af3-a599-6c6fc5ef4906       4648       132061         19147   \n",
       "\n",
       "   fb  gp  li  tw  pi                                UserId        IpAddress  \\\n",
       "0   0   0   0   0   0  cc9cc585-2149-4675-903e-aa5182235b8c  187.178.191.185   \n",
       "1   0   0   0   0   0  3a07b126-d0f0-4c52-8422-bee0be413aa1     76.98.16.182   \n",
       "2   0   0   0   0   0  bb296418-ed91-483c-98d7-3337ba7271f1   187.140.221.62   \n",
       "3   3   0   0   1   0  371088ec-ccd9-4c1e-acb3-6c3b43c84627   80.178.195.170   \n",
       "4   0   0   0   0   0  3e41b10d-373c-4af3-a599-6c6fc5ef4906  189.211.179.148   \n",
       "\n",
       "  CountryCode             RegisterDate            LastLoginDate  \\\n",
       "0          MX  2014-12-26 16:55:41.853  2018-02-01 03:08:51.673   \n",
       "1          US  2015-04-13 12:30:21.567  2018-08-20 15:02:36.977   \n",
       "2          MX  2015-04-04 21:24:48.420  2020-05-16 04:49:13.887   \n",
       "3          IL  2017-11-15 10:32:38.790  2020-06-18 06:25:49.287   \n",
       "4          MX  2015-10-19 18:04:01.607  2016-05-28 22:01:30.747   \n",
       "\n",
       "          PremiumStartDate           PremiumEndDate  \n",
       "0  2016-01-18 16:17:17.820  2018-01-21 16:17:17.820  \n",
       "1  2018-06-04 04:36:42.837  2019-06-04 04:36:42.837  \n",
       "2  2018-07-14 00:11:08.750  2020-07-14 01:00:18.750  \n",
       "3  2019-06-17 06:53:28.407  2021-06-23 12:25:58.153  \n",
       "4  2015-10-19 19:58:29.410  2016-10-19 19:58:29.410  "
      ]
     },
     "execution_count": 51,
     "metadata": {},
     "output_type": "execute_result"
    }
   ],
   "source": [
    "slides.head()"
   ]
  },
  {
   "cell_type": "markdown",
   "metadata": {},
   "source": [
    "## Count"
   ]
  },
  {
   "cell_type": "code",
   "execution_count": 54,
   "metadata": {},
   "outputs": [
    {
     "data": {
      "text/plain": [
       "CountryCode\n",
       "US    5340\n",
       "MX     819\n",
       "CO     456\n",
       "IL     337\n",
       "BR     277\n",
       "Name: userID, dtype: int64"
      ]
     },
     "execution_count": 54,
     "metadata": {},
     "output_type": "execute_result"
    }
   ],
   "source": [
    "slides.groupby('CountryCode')['userID'].count().sort_values(ascending=False).head()"
   ]
  },
  {
   "cell_type": "code",
   "execution_count": 96,
   "metadata": {},
   "outputs": [
    {
     "data": {
      "image/png": "[encoded data removed]",
      "text/plain": [
       "<Figure size 432x288 with 1 Axes>"
      ]
     },
     "metadata": {},
     "output_type": "display_data"
    }
   ],
   "source": [
    "ax = sns.countplot(x='CountryCode', data= slides[(slides.CountryCode == 'US') | (slides.CountryCode == 'MX') | (slides.CountryCode == 'CO') | (slides.CountryCode == 'IL') | (slides.CountryCode == 'BR')]).set_title('Top 5 Countries')"
   ]
  },
  {
   "cell_type": "markdown",
   "metadata": {},
   "source": [
    "## Premium?"
   ]
  },
  {
   "cell_type": "code",
   "execution_count": 65,
   "metadata": {},
   "outputs": [
    {
     "data": {
      "text/plain": [
       "2604"
      ]
     },
     "execution_count": 65,
     "metadata": {},
     "output_type": "execute_result"
    }
   ],
   "source": [
    "slides['PremiumStartDate'].count()"
   ]
  },
  {
   "cell_type": "markdown",
   "metadata": {},
   "source": [
    "26% of the top 10,000 users with most slides are premium users"
   ]
  }
 ],
 "metadata": {
  "kernelspec": {
   "display_name": "Python 3",
   "language": "python",
   "name": "python3"
  },
  "language_info": {
   "codemirror_mode": {
    "name": "ipython",
    "version": 3
   },
   "file_extension": ".py",
   "mimetype": "text/x-python",
   "name": "python",
   "nbconvert_exporter": "python",
   "pygments_lexer": "ipython3",
   "version": "3.7.4"
  }
 },
 "nbformat": 4,
 "nbformat_minor": 2
}
